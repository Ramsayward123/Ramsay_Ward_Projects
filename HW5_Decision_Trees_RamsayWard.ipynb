{
  "cells": [
    {
      "cell_type": "markdown",
      "source": [
        "## **HW5: Decision Trees**\n",
        "\n",
        "In this Homework, you will implement a Decision Tree classifier.\n",
        "  \n",
        "To perform predictive and descriptive analytics, you will use the [Decision Tree Classifier](https://scikit-learn.org/stable/modules/tree.html#classification) class in the `scikit-learn`.\n",
        "\n",
        "  \n",
        "For this assignment, the stopping condition will be the depth of the tree. The impurity measure can be either `Entropy` or `Gini`.\n",
        "\n",
        "To test our tree built from the Decision Tree Classifier class, we will use a dataset named Melbourne housing data (that has been cleaned and pruned) and use the files:\n",
        "\n",
        "   - `melb_train.csv` for training the decision tree (we'll also see what happens if we use the same data to test as we used to train the data in the last problem)\n",
        "   - `melb_test.csv` for testing the decision tree\n",
        "\n",
        "There are 10 features in these dataframes that we can use to describe and predict the class label housing \"Type\", which is 'h' house, 'u' duplex, or 't' townhome."
      ],
      "metadata": {
        "id": "wLSPNtXhdmWN"
      }
    },
    {
      "cell_type": "code",
      "execution_count": 1,
      "metadata": {
        "id": "UGmu7TnUCzlW"
      },
      "outputs": [],
      "source": [
        "# import the libraries\n",
        "\n",
        "import pandas as pd\n",
        "import numpy as np\n",
        "import matplotlib.pyplot as plt\n",
        "from math import log2\n",
        "from sklearn import tree # you'll probably need to install this\n",
        "import graphviz # you'll probably need to install this\n",
        "import seaborn as sns\n",
        "sns.set_style('darkgrid')"
      ]
    },
    {
      "cell_type": "markdown",
      "metadata": {
        "id": "geOscVHCL6dO"
      },
      "source": [
        "## **Question 1: Load data**\n",
        "\n",
        "* Load the training and testing sets into two seperate pandas dataframes, named `df_train` and `df_test`.\n",
        "* View the first few rows of the data and observe the features."
      ]
    },
    {
      "cell_type": "code",
      "execution_count": 2,
      "metadata": {
        "id": "s_WQobjbDCuj"
      },
      "outputs": [],
      "source": [
        "# Write your code here\n",
        "df_train = pd.read_csv('melb_tree_train.csv')\n",
        "df_test = pd.read_csv('melb_tree_test.csv')"
      ]
    },
    {
      "cell_type": "code",
      "execution_count": 3,
      "metadata": {
        "id": "dVUB1WYpLBHZ",
        "colab": {
          "base_uri": "https://localhost:8080/",
          "height": 206
        },
        "outputId": "374314cc-7681-4782-e327-cf2204ff00ae"
      },
      "outputs": [
        {
          "output_type": "execute_result",
          "data": {
            "text/plain": [
              "   Rooms Type      Price  Distance  Bedroom2  Bathroom  Car  Landsize  \\\n",
              "0      2    t   771000.0      13.8       2.0       1.0  1.0       0.0   \n",
              "1      3    t   700000.0       7.9       3.0       2.0  1.0     189.0   \n",
              "2      3    u   975000.0      12.1       3.0       2.0  1.0     277.0   \n",
              "3      3    h  1290000.0       8.0       3.0       1.0  1.0     618.0   \n",
              "4      2    u   500000.0       4.2       2.0       1.0  1.0       0.0   \n",
              "\n",
              "   BuildingArea  YearBuilt    CouncilArea  \n",
              "0          99.0     1992.0        Bayside  \n",
              "1         110.0     1990.0        Banyule  \n",
              "2         109.0     1975.0      Glen Eira  \n",
              "3         132.0     1960.0  Moonee Valley  \n",
              "4          86.0     2000.0      Melbourne  "
            ],
            "text/html": [
              "\n",
              "  <div id=\"df-4cb331c2-2a29-49d0-a54e-79be15a766d7\" class=\"colab-df-container\">\n",
              "    <div>\n",
              "<style scoped>\n",
              "    .dataframe tbody tr th:only-of-type {\n",
              "        vertical-align: middle;\n",
              "    }\n",
              "\n",
              "    .dataframe tbody tr th {\n",
              "        vertical-align: top;\n",
              "    }\n",
              "\n",
              "    .dataframe thead th {\n",
              "        text-align: right;\n",
              "    }\n",
              "</style>\n",
              "<table border=\"1\" class=\"dataframe\">\n",
              "  <thead>\n",
              "    <tr style=\"text-align: right;\">\n",
              "      <th></th>\n",
              "      <th>Rooms</th>\n",
              "      <th>Type</th>\n",
              "      <th>Price</th>\n",
              "      <th>Distance</th>\n",
              "      <th>Bedroom2</th>\n",
              "      <th>Bathroom</th>\n",
              "      <th>Car</th>\n",
              "      <th>Landsize</th>\n",
              "      <th>BuildingArea</th>\n",
              "      <th>YearBuilt</th>\n",
              "      <th>CouncilArea</th>\n",
              "    </tr>\n",
              "  </thead>\n",
              "  <tbody>\n",
              "    <tr>\n",
              "      <th>0</th>\n",
              "      <td>2</td>\n",
              "      <td>t</td>\n",
              "      <td>771000.0</td>\n",
              "      <td>13.8</td>\n",
              "      <td>2.0</td>\n",
              "      <td>1.0</td>\n",
              "      <td>1.0</td>\n",
              "      <td>0.0</td>\n",
              "      <td>99.0</td>\n",
              "      <td>1992.0</td>\n",
              "      <td>Bayside</td>\n",
              "    </tr>\n",
              "    <tr>\n",
              "      <th>1</th>\n",
              "      <td>3</td>\n",
              "      <td>t</td>\n",
              "      <td>700000.0</td>\n",
              "      <td>7.9</td>\n",
              "      <td>3.0</td>\n",
              "      <td>2.0</td>\n",
              "      <td>1.0</td>\n",
              "      <td>189.0</td>\n",
              "      <td>110.0</td>\n",
              "      <td>1990.0</td>\n",
              "      <td>Banyule</td>\n",
              "    </tr>\n",
              "    <tr>\n",
              "      <th>2</th>\n",
              "      <td>3</td>\n",
              "      <td>u</td>\n",
              "      <td>975000.0</td>\n",
              "      <td>12.1</td>\n",
              "      <td>3.0</td>\n",
              "      <td>2.0</td>\n",
              "      <td>1.0</td>\n",
              "      <td>277.0</td>\n",
              "      <td>109.0</td>\n",
              "      <td>1975.0</td>\n",
              "      <td>Glen Eira</td>\n",
              "    </tr>\n",
              "    <tr>\n",
              "      <th>3</th>\n",
              "      <td>3</td>\n",
              "      <td>h</td>\n",
              "      <td>1290000.0</td>\n",
              "      <td>8.0</td>\n",
              "      <td>3.0</td>\n",
              "      <td>1.0</td>\n",
              "      <td>1.0</td>\n",
              "      <td>618.0</td>\n",
              "      <td>132.0</td>\n",
              "      <td>1960.0</td>\n",
              "      <td>Moonee Valley</td>\n",
              "    </tr>\n",
              "    <tr>\n",
              "      <th>4</th>\n",
              "      <td>2</td>\n",
              "      <td>u</td>\n",
              "      <td>500000.0</td>\n",
              "      <td>4.2</td>\n",
              "      <td>2.0</td>\n",
              "      <td>1.0</td>\n",
              "      <td>1.0</td>\n",
              "      <td>0.0</td>\n",
              "      <td>86.0</td>\n",
              "      <td>2000.0</td>\n",
              "      <td>Melbourne</td>\n",
              "    </tr>\n",
              "  </tbody>\n",
              "</table>\n",
              "</div>\n",
              "    <div class=\"colab-df-buttons\">\n",
              "\n",
              "  <div class=\"colab-df-container\">\n",
              "    <button class=\"colab-df-convert\" onclick=\"convertToInteractive('df-4cb331c2-2a29-49d0-a54e-79be15a766d7')\"\n",
              "            title=\"Convert this dataframe to an interactive table.\"\n",
              "            style=\"display:none;\">\n",
              "\n",
              "  <svg xmlns=\"http://www.w3.org/2000/svg\" height=\"24px\" viewBox=\"0 -960 960 960\">\n",
              "    <path d=\"M120-120v-720h720v720H120Zm60-500h600v-160H180v160Zm220 220h160v-160H400v160Zm0 220h160v-160H400v160ZM180-400h160v-160H180v160Zm440 0h160v-160H620v160ZM180-180h160v-160H180v160Zm440 0h160v-160H620v160Z\"/>\n",
              "  </svg>\n",
              "    </button>\n",
              "\n",
              "  <style>\n",
              "    .colab-df-container {\n",
              "      display:flex;\n",
              "      gap: 12px;\n",
              "    }\n",
              "\n",
              "    .colab-df-convert {\n",
              "      background-color: #E8F0FE;\n",
              "      border: none;\n",
              "      border-radius: 50%;\n",
              "      cursor: pointer;\n",
              "      display: none;\n",
              "      fill: #1967D2;\n",
              "      height: 32px;\n",
              "      padding: 0 0 0 0;\n",
              "      width: 32px;\n",
              "    }\n",
              "\n",
              "    .colab-df-convert:hover {\n",
              "      background-color: #E2EBFA;\n",
              "      box-shadow: 0px 1px 2px rgba(60, 64, 67, 0.3), 0px 1px 3px 1px rgba(60, 64, 67, 0.15);\n",
              "      fill: #174EA6;\n",
              "    }\n",
              "\n",
              "    .colab-df-buttons div {\n",
              "      margin-bottom: 4px;\n",
              "    }\n",
              "\n",
              "    [theme=dark] .colab-df-convert {\n",
              "      background-color: #3B4455;\n",
              "      fill: #D2E3FC;\n",
              "    }\n",
              "\n",
              "    [theme=dark] .colab-df-convert:hover {\n",
              "      background-color: #434B5C;\n",
              "      box-shadow: 0px 1px 3px 1px rgba(0, 0, 0, 0.15);\n",
              "      filter: drop-shadow(0px 1px 2px rgba(0, 0, 0, 0.3));\n",
              "      fill: #FFFFFF;\n",
              "    }\n",
              "  </style>\n",
              "\n",
              "    <script>\n",
              "      const buttonEl =\n",
              "        document.querySelector('#df-4cb331c2-2a29-49d0-a54e-79be15a766d7 button.colab-df-convert');\n",
              "      buttonEl.style.display =\n",
              "        google.colab.kernel.accessAllowed ? 'block' : 'none';\n",
              "\n",
              "      async function convertToInteractive(key) {\n",
              "        const element = document.querySelector('#df-4cb331c2-2a29-49d0-a54e-79be15a766d7');\n",
              "        const dataTable =\n",
              "          await google.colab.kernel.invokeFunction('convertToInteractive',\n",
              "                                                    [key], {});\n",
              "        if (!dataTable) return;\n",
              "\n",
              "        const docLinkHtml = 'Like what you see? Visit the ' +\n",
              "          '<a target=\"_blank\" href=https://colab.research.google.com/notebooks/data_table.ipynb>data table notebook</a>'\n",
              "          + ' to learn more about interactive tables.';\n",
              "        element.innerHTML = '';\n",
              "        dataTable['output_type'] = 'display_data';\n",
              "        await google.colab.output.renderOutput(dataTable, element);\n",
              "        const docLink = document.createElement('div');\n",
              "        docLink.innerHTML = docLinkHtml;\n",
              "        element.appendChild(docLink);\n",
              "      }\n",
              "    </script>\n",
              "  </div>\n",
              "\n",
              "\n",
              "<div id=\"df-d1701bf7-ebb2-4a39-a24d-6754b98ef6b4\">\n",
              "  <button class=\"colab-df-quickchart\" onclick=\"quickchart('df-d1701bf7-ebb2-4a39-a24d-6754b98ef6b4')\"\n",
              "            title=\"Suggest charts\"\n",
              "            style=\"display:none;\">\n",
              "\n",
              "<svg xmlns=\"http://www.w3.org/2000/svg\" height=\"24px\"viewBox=\"0 0 24 24\"\n",
              "     width=\"24px\">\n",
              "    <g>\n",
              "        <path d=\"M19 3H5c-1.1 0-2 .9-2 2v14c0 1.1.9 2 2 2h14c1.1 0 2-.9 2-2V5c0-1.1-.9-2-2-2zM9 17H7v-7h2v7zm4 0h-2V7h2v10zm4 0h-2v-4h2v4z\"/>\n",
              "    </g>\n",
              "</svg>\n",
              "  </button>\n",
              "\n",
              "<style>\n",
              "  .colab-df-quickchart {\n",
              "      --bg-color: #E8F0FE;\n",
              "      --fill-color: #1967D2;\n",
              "      --hover-bg-color: #E2EBFA;\n",
              "      --hover-fill-color: #174EA6;\n",
              "      --disabled-fill-color: #AAA;\n",
              "      --disabled-bg-color: #DDD;\n",
              "  }\n",
              "\n",
              "  [theme=dark] .colab-df-quickchart {\n",
              "      --bg-color: #3B4455;\n",
              "      --fill-color: #D2E3FC;\n",
              "      --hover-bg-color: #434B5C;\n",
              "      --hover-fill-color: #FFFFFF;\n",
              "      --disabled-bg-color: #3B4455;\n",
              "      --disabled-fill-color: #666;\n",
              "  }\n",
              "\n",
              "  .colab-df-quickchart {\n",
              "    background-color: var(--bg-color);\n",
              "    border: none;\n",
              "    border-radius: 50%;\n",
              "    cursor: pointer;\n",
              "    display: none;\n",
              "    fill: var(--fill-color);\n",
              "    height: 32px;\n",
              "    padding: 0;\n",
              "    width: 32px;\n",
              "  }\n",
              "\n",
              "  .colab-df-quickchart:hover {\n",
              "    background-color: var(--hover-bg-color);\n",
              "    box-shadow: 0 1px 2px rgba(60, 64, 67, 0.3), 0 1px 3px 1px rgba(60, 64, 67, 0.15);\n",
              "    fill: var(--button-hover-fill-color);\n",
              "  }\n",
              "\n",
              "  .colab-df-quickchart-complete:disabled,\n",
              "  .colab-df-quickchart-complete:disabled:hover {\n",
              "    background-color: var(--disabled-bg-color);\n",
              "    fill: var(--disabled-fill-color);\n",
              "    box-shadow: none;\n",
              "  }\n",
              "\n",
              "  .colab-df-spinner {\n",
              "    border: 2px solid var(--fill-color);\n",
              "    border-color: transparent;\n",
              "    border-bottom-color: var(--fill-color);\n",
              "    animation:\n",
              "      spin 1s steps(1) infinite;\n",
              "  }\n",
              "\n",
              "  @keyframes spin {\n",
              "    0% {\n",
              "      border-color: transparent;\n",
              "      border-bottom-color: var(--fill-color);\n",
              "      border-left-color: var(--fill-color);\n",
              "    }\n",
              "    20% {\n",
              "      border-color: transparent;\n",
              "      border-left-color: var(--fill-color);\n",
              "      border-top-color: var(--fill-color);\n",
              "    }\n",
              "    30% {\n",
              "      border-color: transparent;\n",
              "      border-left-color: var(--fill-color);\n",
              "      border-top-color: var(--fill-color);\n",
              "      border-right-color: var(--fill-color);\n",
              "    }\n",
              "    40% {\n",
              "      border-color: transparent;\n",
              "      border-right-color: var(--fill-color);\n",
              "      border-top-color: var(--fill-color);\n",
              "    }\n",
              "    60% {\n",
              "      border-color: transparent;\n",
              "      border-right-color: var(--fill-color);\n",
              "    }\n",
              "    80% {\n",
              "      border-color: transparent;\n",
              "      border-right-color: var(--fill-color);\n",
              "      border-bottom-color: var(--fill-color);\n",
              "    }\n",
              "    90% {\n",
              "      border-color: transparent;\n",
              "      border-bottom-color: var(--fill-color);\n",
              "    }\n",
              "  }\n",
              "</style>\n",
              "\n",
              "  <script>\n",
              "    async function quickchart(key) {\n",
              "      const quickchartButtonEl =\n",
              "        document.querySelector('#' + key + ' button');\n",
              "      quickchartButtonEl.disabled = true;  // To prevent multiple clicks.\n",
              "      quickchartButtonEl.classList.add('colab-df-spinner');\n",
              "      try {\n",
              "        const charts = await google.colab.kernel.invokeFunction(\n",
              "            'suggestCharts', [key], {});\n",
              "      } catch (error) {\n",
              "        console.error('Error during call to suggestCharts:', error);\n",
              "      }\n",
              "      quickchartButtonEl.classList.remove('colab-df-spinner');\n",
              "      quickchartButtonEl.classList.add('colab-df-quickchart-complete');\n",
              "    }\n",
              "    (() => {\n",
              "      let quickchartButtonEl =\n",
              "        document.querySelector('#df-d1701bf7-ebb2-4a39-a24d-6754b98ef6b4 button');\n",
              "      quickchartButtonEl.style.display =\n",
              "        google.colab.kernel.accessAllowed ? 'block' : 'none';\n",
              "    })();\n",
              "  </script>\n",
              "</div>\n",
              "\n",
              "    </div>\n",
              "  </div>\n"
            ],
            "application/vnd.google.colaboratory.intrinsic+json": {
              "type": "dataframe",
              "variable_name": "df_train",
              "summary": "{\n  \"name\": \"df_train\",\n  \"rows\": 810,\n  \"fields\": [\n    {\n      \"column\": \"Rooms\",\n      \"properties\": {\n        \"dtype\": \"number\",\n        \"std\": 0,\n        \"min\": 1,\n        \"max\": 7,\n        \"num_unique_values\": 7,\n        \"samples\": [\n          2,\n          3,\n          7\n        ],\n        \"semantic_type\": \"\",\n        \"description\": \"\"\n      }\n    },\n    {\n      \"column\": \"Type\",\n      \"properties\": {\n        \"dtype\": \"category\",\n        \"num_unique_values\": 3,\n        \"samples\": [\n          \"t\",\n          \"u\",\n          \"h\"\n        ],\n        \"semantic_type\": \"\",\n        \"description\": \"\"\n      }\n    },\n    {\n      \"column\": \"Price\",\n      \"properties\": {\n        \"dtype\": \"number\",\n        \"std\": 622672.6282169832,\n        \"min\": 256500.0,\n        \"max\": 6250000.0,\n        \"num_unique_values\": 497,\n        \"samples\": [\n          1013000.0,\n          1557000.0,\n          706000.0\n        ],\n        \"semantic_type\": \"\",\n        \"description\": \"\"\n      }\n    },\n    {\n      \"column\": \"Distance\",\n      \"properties\": {\n        \"dtype\": \"number\",\n        \"std\": 4.57820022539307,\n        \"min\": 0.7,\n        \"max\": 31.7,\n        \"num_unique_values\": 131,\n        \"samples\": [\n          8.5,\n          9.4,\n          2.5\n        ],\n        \"semantic_type\": \"\",\n        \"description\": \"\"\n      }\n    },\n    {\n      \"column\": \"Bedroom2\",\n      \"properties\": {\n        \"dtype\": \"number\",\n        \"std\": 0.8747885904059559,\n        \"min\": 1.0,\n        \"max\": 7.0,\n        \"num_unique_values\": 6,\n        \"samples\": [\n          2.0,\n          3.0,\n          7.0\n        ],\n        \"semantic_type\": \"\",\n        \"description\": \"\"\n      }\n    },\n    {\n      \"column\": \"Bathroom\",\n      \"properties\": {\n        \"dtype\": \"number\",\n        \"std\": 0.6541143059032738,\n        \"min\": 1.0,\n        \"max\": 4.0,\n        \"num_unique_values\": 4,\n        \"samples\": [\n          2.0,\n          3.0,\n          1.0\n        ],\n        \"semantic_type\": \"\",\n        \"description\": \"\"\n      }\n    },\n    {\n      \"column\": \"Car\",\n      \"properties\": {\n        \"dtype\": \"number\",\n        \"std\": 0.7635063219022306,\n        \"min\": 0.0,\n        \"max\": 7.0,\n        \"num_unique_values\": 8,\n        \"samples\": [\n          2.0,\n          5.0,\n          1.0\n        ],\n        \"semantic_type\": \"\",\n        \"description\": \"\"\n      }\n    },\n    {\n      \"column\": \"Landsize\",\n      \"properties\": {\n        \"dtype\": \"number\",\n        \"std\": 1532.7343457734237,\n        \"min\": 0.0,\n        \"max\": 37000.0,\n        \"num_unique_values\": 421,\n        \"samples\": [\n          192.0,\n          85.0,\n          573.0\n        ],\n        \"semantic_type\": \"\",\n        \"description\": \"\"\n      }\n    },\n    {\n      \"column\": \"BuildingArea\",\n      \"properties\": {\n        \"dtype\": \"number\",\n        \"std\": 79.91089835326149,\n        \"min\": 0.0,\n        \"max\": 1561.0,\n        \"num_unique_values\": 230,\n        \"samples\": [\n          33.0,\n          47.0,\n          84.0\n        ],\n        \"semantic_type\": \"\",\n        \"description\": \"\"\n      }\n    },\n    {\n      \"column\": \"YearBuilt\",\n      \"properties\": {\n        \"dtype\": \"number\",\n        \"std\": 33.640720770721614,\n        \"min\": 1872.0,\n        \"max\": 2017.0,\n        \"num_unique_values\": 75,\n        \"samples\": [\n          2000.0,\n          2017.0,\n          2015.0\n        ],\n        \"semantic_type\": \"\",\n        \"description\": \"\"\n      }\n    },\n    {\n      \"column\": \"CouncilArea\",\n      \"properties\": {\n        \"dtype\": \"category\",\n        \"num_unique_values\": 21,\n        \"samples\": [\n          \"Bayside\",\n          \"Monash\",\n          \"Hume\"\n        ],\n        \"semantic_type\": \"\",\n        \"description\": \"\"\n      }\n    }\n  ]\n}"
            }
          },
          "metadata": {},
          "execution_count": 3
        }
      ],
      "source": [
        "# Write your code here\n",
        "df_train.head()"
      ]
    },
    {
      "cell_type": "markdown",
      "source": [],
      "metadata": {
        "id": "5zqS_W68ly4k"
      }
    },
    {
      "cell_type": "markdown",
      "metadata": {
        "id": "WOK1Oh-pMocO"
      },
      "source": [
        "# **Q2: Explore the distribution of the target column \"Type\" in the training data.**"
      ]
    },
    {
      "cell_type": "markdown",
      "metadata": {
        "id": "gkdrSPFSkncF"
      },
      "source": [
        "**Q 1.1 Use `value_counts` to get the statistics of `Type` label.**"
      ]
    },
    {
      "cell_type": "code",
      "execution_count": 4,
      "metadata": {
        "id": "mP3Ah1UILIYO",
        "colab": {
          "base_uri": "https://localhost:8080/"
        },
        "outputId": "e1c24b99-d4d9-4115-a21a-561746e85ffa"
      },
      "outputs": [
        {
          "output_type": "stream",
          "name": "stdout",
          "text": [
            "t    281\n",
            "u    281\n",
            "h    248\n",
            "Name: Type, dtype: int64\n"
          ]
        }
      ],
      "source": [
        "# Write your code here\n",
        "type = df_train.Type\n",
        "print(type.value_counts())"
      ]
    },
    {
      "cell_type": "markdown",
      "metadata": {
        "id": "61DG3wDTlKUF"
      },
      "source": [
        "**Q 1.2**\n",
        "\n",
        "* Calculate the frequency of type `t`, type `u` and type `h`\n",
        "* Print each frequency"
      ]
    },
    {
      "cell_type": "code",
      "execution_count": 5,
      "metadata": {
        "id": "fYThlY4TkmXR",
        "colab": {
          "base_uri": "https://localhost:8080/"
        },
        "outputId": "0f1ce5f4-97a2-454d-847b-814b1ffcfe1e"
      },
      "outputs": [
        {
          "output_type": "stream",
          "name": "stdout",
          "text": [
            "0.3469135802469136\n",
            "0.3469135802469136\n",
            "0.30617283950617286\n"
          ]
        }
      ],
      "source": [
        "# Write your code here\n",
        "t_freq = type.value_counts()['t']/ len(type)\n",
        "print(t_freq)\n",
        "\n",
        "u_freq = type.value_counts()['u']/ len(type)\n",
        "print(u_freq)\n",
        "\n",
        "h_freq = type.value_counts()['h']/ len(type)\n",
        "print(h_freq)"
      ]
    },
    {
      "cell_type": "markdown",
      "metadata": {
        "id": "ZGMIfUJrpsqy"
      },
      "source": [
        "## **Q2. Feature Engineering**"
      ]
    },
    {
      "cell_type": "markdown",
      "metadata": {
        "id": "zHxLb2Uarap6"
      },
      "source": [
        "**Q2.1 Using the training dataset:**\n",
        "\n",
        "* Extract the feature columns and save them in a dataframe named `df_features`\n",
        "* Extract the target column and save it in a dataframe named `df_target`"
      ]
    },
    {
      "cell_type": "code",
      "execution_count": 6,
      "metadata": {
        "id": "PpbYtjJfrEUu"
      },
      "outputs": [],
      "source": [
        "# Write your code here\n",
        "df_features = df_train.drop('Type', axis = 1)\n",
        "df_target = df_train['Type']\n",
        "\n"
      ]
    },
    {
      "cell_type": "markdown",
      "metadata": {
        "id": "9KrqfeUWvuuF"
      },
      "source": [
        "**Q2.2 Extract the categorical data from the features dataframe, store them into a new dataframe named `categorical_variables` and print the results**\n"
      ]
    },
    {
      "cell_type": "code",
      "source": [
        "# Write your code here\n",
        "categorical_variables = df_features.select_dtypes(include = 'object')\n",
        "print(categorical_variables)\n",
        "\n"
      ],
      "metadata": {
        "id": "qxOWBdU0YjWE",
        "colab": {
          "base_uri": "https://localhost:8080/"
        },
        "outputId": "15548bf0-d7c4-4df7-9e14-8efc7dff12c0"
      },
      "execution_count": 7,
      "outputs": [
        {
          "output_type": "stream",
          "name": "stdout",
          "text": [
            "       CouncilArea\n",
            "0          Bayside\n",
            "1          Banyule\n",
            "2        Glen Eira\n",
            "3    Moonee Valley\n",
            "4        Melbourne\n",
            "..             ...\n",
            "805      Glen Eira\n",
            "806          Yarra\n",
            "807       Moreland\n",
            "808    Maribyrnong\n",
            "809        Bayside\n",
            "\n",
            "[810 rows x 1 columns]\n"
          ]
        }
      ]
    },
    {
      "cell_type": "markdown",
      "metadata": {
        "id": "Bg4OQQo3J_Ql"
      },
      "source": [
        "# **Q3. Build a decision tree classifier.**"
      ]
    },
    {
      "cell_type": "markdown",
      "metadata": {
        "id": "Ah0uRtAeLozD"
      },
      "source": [
        "* Using [scikit-learn](https://scikit-learn.org/stable/modules/tree.html#tree) create a multi class classifer for the data set using the Gini impurity measure and a max depth of 3.\n",
        "\n",
        "* Note that `scikit-learn`'s algorithm doesn't handle categorical data, so you will need to encode categorical data using one hot encoding.\n",
        "For this question, you will use `df_features` and `df_target` that you created above.\n"
      ]
    },
    {
      "cell_type": "code",
      "execution_count": 8,
      "metadata": {
        "id": "uW_yhiOELBWl"
      },
      "outputs": [],
      "source": [
        "# Write your code here\n",
        "#categorical_variables = pd.get_dummies(categorical_variables)\n",
        "df_features = pd.get_dummies(df_features)\n",
        "#print(categorical_variables.shape)\n",
        "#print(df_features.shape)\n",
        "#print(df_target.shape)\n",
        "clf = tree.DecisionTreeClassifier(criterion='gini', max_depth=3)\n",
        "clf = clf.fit(df_features, df_target)\n"
      ]
    },
    {
      "cell_type": "markdown",
      "metadata": {
        "id": "e4GZreu3K9q5"
      },
      "source": [
        "# **Q4. Visualize the Tree model you have implemented above.**"
      ]
    },
    {
      "cell_type": "markdown",
      "metadata": {
        "id": "p2YbdvKGNqio"
      },
      "source": [
        "* Display graphviz version of the tree"
      ]
    },
    {
      "cell_type": "code",
      "execution_count": 9,
      "metadata": {
        "id": "hECiXz6UNucG",
        "colab": {
          "base_uri": "https://localhost:8080/",
          "height": 618
        },
        "outputId": "6ad243f2-3aeb-4038-b608-693b3ddf8c58"
      },
      "outputs": [
        {
          "output_type": "execute_result",
          "data": {
            "image/svg+xml": "<?xml version=\"1.0\" encoding=\"UTF-8\" standalone=\"no\"?>\n<!DOCTYPE svg PUBLIC \"-//W3C//DTD SVG 1.1//EN\"\n \"http://www.w3.org/Graphics/SVG/1.1/DTD/svg11.dtd\">\n<!-- Generated by graphviz version 2.43.0 (0)\n -->\n<!-- Title: Tree Pages: 1 -->\n<svg width=\"1151pt\" height=\"433pt\"\n viewBox=\"0.00 0.00 1150.50 433.00\" xmlns=\"http://www.w3.org/2000/svg\" xmlns:xlink=\"http://www.w3.org/1999/xlink\">\n<g id=\"graph0\" class=\"graph\" transform=\"scale(1 1) rotate(0) translate(4 429)\">\n<title>Tree</title>\n<polygon fill=\"white\" stroke=\"transparent\" points=\"-4,4 -4,-429 1146.5,-429 1146.5,4 -4,4\"/>\n<!-- 0 -->\n<g id=\"node1\" class=\"node\">\n<title>0</title>\n<path fill=\"#ffffff\" stroke=\"black\" d=\"M603.5,-425C603.5,-425 472.5,-425 472.5,-425 466.5,-425 460.5,-419 460.5,-413 460.5,-413 460.5,-354 460.5,-354 460.5,-348 466.5,-342 472.5,-342 472.5,-342 603.5,-342 603.5,-342 609.5,-342 615.5,-348 615.5,-354 615.5,-354 615.5,-413 615.5,-413 615.5,-419 609.5,-425 603.5,-425\"/>\n<text text-anchor=\"middle\" x=\"538\" y=\"-409.8\" font-family=\"Helvetica,sans-Serif\" font-size=\"14.00\">BuildingArea &lt;= 99.5</text>\n<text text-anchor=\"middle\" x=\"538\" y=\"-394.8\" font-family=\"Helvetica,sans-Serif\" font-size=\"14.00\">gini = 0.666</text>\n<text text-anchor=\"middle\" x=\"538\" y=\"-379.8\" font-family=\"Helvetica,sans-Serif\" font-size=\"14.00\">samples = 810</text>\n<text text-anchor=\"middle\" x=\"538\" y=\"-364.8\" font-family=\"Helvetica,sans-Serif\" font-size=\"14.00\">value = [248, 281, 281]</text>\n<text text-anchor=\"middle\" x=\"538\" y=\"-349.8\" font-family=\"Helvetica,sans-Serif\" font-size=\"14.00\">class = t</text>\n</g>\n<!-- 1 -->\n<g id=\"node2\" class=\"node\">\n<title>1</title>\n<path fill=\"#aa7aed\" stroke=\"black\" d=\"M472,-306C472,-306 356,-306 356,-306 350,-306 344,-300 344,-294 344,-294 344,-235 344,-235 344,-229 350,-223 356,-223 356,-223 472,-223 472,-223 478,-223 484,-229 484,-235 484,-235 484,-294 484,-294 484,-300 478,-306 472,-306\"/>\n<text text-anchor=\"middle\" x=\"414\" y=\"-290.8\" font-family=\"Helvetica,sans-Serif\" font-size=\"14.00\">Price &lt;= 840500.0</text>\n<text text-anchor=\"middle\" x=\"414\" y=\"-275.8\" font-family=\"Helvetica,sans-Serif\" font-size=\"14.00\">gini = 0.436</text>\n<text text-anchor=\"middle\" x=\"414\" y=\"-260.8\" font-family=\"Helvetica,sans-Serif\" font-size=\"14.00\">samples = 291</text>\n<text text-anchor=\"middle\" x=\"414\" y=\"-245.8\" font-family=\"Helvetica,sans-Serif\" font-size=\"14.00\">value = [34, 46, 211]</text>\n<text text-anchor=\"middle\" x=\"414\" y=\"-230.8\" font-family=\"Helvetica,sans-Serif\" font-size=\"14.00\">class = u</text>\n</g>\n<!-- 0&#45;&gt;1 -->\n<g id=\"edge1\" class=\"edge\">\n<title>0&#45;&gt;1</title>\n<path fill=\"none\" stroke=\"black\" d=\"M494.98,-341.91C485.07,-332.56 474.45,-322.54 464.27,-312.93\"/>\n<polygon fill=\"black\" stroke=\"black\" points=\"466.62,-310.34 456.95,-306.02 461.82,-315.43 466.62,-310.34\"/>\n<text text-anchor=\"middle\" x=\"457.67\" y=\"-327.31\" font-family=\"Helvetica,sans-Serif\" font-size=\"14.00\">True</text>\n</g>\n<!-- 8 -->\n<g id=\"node9\" class=\"node\">\n<title>8</title>\n<path fill=\"#f1fdf6\" stroke=\"black\" d=\"M756.5,-306C756.5,-306 633.5,-306 633.5,-306 627.5,-306 621.5,-300 621.5,-294 621.5,-294 621.5,-235 621.5,-235 621.5,-229 627.5,-223 633.5,-223 633.5,-223 756.5,-223 756.5,-223 762.5,-223 768.5,-229 768.5,-235 768.5,-235 768.5,-294 768.5,-294 768.5,-300 762.5,-306 756.5,-306\"/>\n<text text-anchor=\"middle\" x=\"695\" y=\"-290.8\" font-family=\"Helvetica,sans-Serif\" font-size=\"14.00\">YearBuilt &lt;= 1976.5</text>\n<text text-anchor=\"middle\" x=\"695\" y=\"-275.8\" font-family=\"Helvetica,sans-Serif\" font-size=\"14.00\">gini = 0.607</text>\n<text text-anchor=\"middle\" x=\"695\" y=\"-260.8\" font-family=\"Helvetica,sans-Serif\" font-size=\"14.00\">samples = 519</text>\n<text text-anchor=\"middle\" x=\"695\" y=\"-245.8\" font-family=\"Helvetica,sans-Serif\" font-size=\"14.00\">value = [214, 235, 70]</text>\n<text text-anchor=\"middle\" x=\"695\" y=\"-230.8\" font-family=\"Helvetica,sans-Serif\" font-size=\"14.00\">class = t</text>\n</g>\n<!-- 0&#45;&gt;8 -->\n<g id=\"edge8\" class=\"edge\">\n<title>0&#45;&gt;8</title>\n<path fill=\"none\" stroke=\"black\" d=\"M592.47,-341.91C605.38,-332.29 619.25,-321.95 632.48,-312.09\"/>\n<polygon fill=\"black\" stroke=\"black\" points=\"634.7,-314.8 640.63,-306.02 630.52,-309.19 634.7,-314.8\"/>\n<text text-anchor=\"middle\" x=\"637.01\" y=\"-327.06\" font-family=\"Helvetica,sans-Serif\" font-size=\"14.00\">False</text>\n</g>\n<!-- 2 -->\n<g id=\"node3\" class=\"node\">\n<title>2</title>\n<path fill=\"#9e67eb\" stroke=\"black\" d=\"M272.5,-187C272.5,-187 153.5,-187 153.5,-187 147.5,-187 141.5,-181 141.5,-175 141.5,-175 141.5,-116 141.5,-116 141.5,-110 147.5,-104 153.5,-104 153.5,-104 272.5,-104 272.5,-104 278.5,-104 284.5,-110 284.5,-116 284.5,-116 284.5,-175 284.5,-175 284.5,-181 278.5,-187 272.5,-187\"/>\n<text text-anchor=\"middle\" x=\"213\" y=\"-171.8\" font-family=\"Helvetica,sans-Serif\" font-size=\"14.00\">BuildingArea &lt;= 83.5</text>\n<text text-anchor=\"middle\" x=\"213\" y=\"-156.8\" font-family=\"Helvetica,sans-Serif\" font-size=\"14.00\">gini = 0.33</text>\n<text text-anchor=\"middle\" x=\"213\" y=\"-141.8\" font-family=\"Helvetica,sans-Serif\" font-size=\"14.00\">samples = 249</text>\n<text text-anchor=\"middle\" x=\"213\" y=\"-126.8\" font-family=\"Helvetica,sans-Serif\" font-size=\"14.00\">value = [11, 38, 200]</text>\n<text text-anchor=\"middle\" x=\"213\" y=\"-111.8\" font-family=\"Helvetica,sans-Serif\" font-size=\"14.00\">class = u</text>\n</g>\n<!-- 1&#45;&gt;2 -->\n<g id=\"edge2\" class=\"edge\">\n<title>1&#45;&gt;2</title>\n<path fill=\"none\" stroke=\"black\" d=\"M344.26,-222.91C327.27,-213.02 308.98,-202.37 291.6,-192.25\"/>\n<polygon fill=\"black\" stroke=\"black\" points=\"293.02,-189.03 282.61,-187.02 289.49,-195.08 293.02,-189.03\"/>\n</g>\n<!-- 5 -->\n<g id=\"node6\" class=\"node\">\n<title>5</title>\n<path fill=\"#f5ceb2\" stroke=\"black\" d=\"M470,-187C470,-187 358,-187 358,-187 352,-187 346,-181 346,-175 346,-175 346,-116 346,-116 346,-110 352,-104 358,-104 358,-104 470,-104 470,-104 476,-104 482,-110 482,-116 482,-116 482,-175 482,-175 482,-181 476,-187 470,-187\"/>\n<text text-anchor=\"middle\" x=\"414\" y=\"-171.8\" font-family=\"Helvetica,sans-Serif\" font-size=\"14.00\">YearBuilt &lt;= 1965.0</text>\n<text text-anchor=\"middle\" x=\"414\" y=\"-156.8\" font-family=\"Helvetica,sans-Serif\" font-size=\"14.00\">gini = 0.595</text>\n<text text-anchor=\"middle\" x=\"414\" y=\"-141.8\" font-family=\"Helvetica,sans-Serif\" font-size=\"14.00\">samples = 42</text>\n<text text-anchor=\"middle\" x=\"414\" y=\"-126.8\" font-family=\"Helvetica,sans-Serif\" font-size=\"14.00\">value = [23, 8, 11]</text>\n<text text-anchor=\"middle\" x=\"414\" y=\"-111.8\" font-family=\"Helvetica,sans-Serif\" font-size=\"14.00\">class = h</text>\n</g>\n<!-- 1&#45;&gt;5 -->\n<g id=\"edge5\" class=\"edge\">\n<title>1&#45;&gt;5</title>\n<path fill=\"none\" stroke=\"black\" d=\"M414,-222.91C414,-214.65 414,-205.86 414,-197.3\"/>\n<polygon fill=\"black\" stroke=\"black\" points=\"417.5,-197.02 414,-187.02 410.5,-197.02 417.5,-197.02\"/>\n</g>\n<!-- 3 -->\n<g id=\"node4\" class=\"node\">\n<title>3</title>\n<path fill=\"#8d4ce7\" stroke=\"black\" d=\"M120,-68C120,-68 12,-68 12,-68 6,-68 0,-62 0,-56 0,-56 0,-12 0,-12 0,-6 6,0 12,0 12,0 120,0 120,0 126,0 132,-6 132,-12 132,-12 132,-56 132,-56 132,-62 126,-68 120,-68\"/>\n<text text-anchor=\"middle\" x=\"66\" y=\"-52.8\" font-family=\"Helvetica,sans-Serif\" font-size=\"14.00\">gini = 0.162</text>\n<text text-anchor=\"middle\" x=\"66\" y=\"-37.8\" font-family=\"Helvetica,sans-Serif\" font-size=\"14.00\">samples = 160</text>\n<text text-anchor=\"middle\" x=\"66\" y=\"-22.8\" font-family=\"Helvetica,sans-Serif\" font-size=\"14.00\">value = [3, 11, 146]</text>\n<text text-anchor=\"middle\" x=\"66\" y=\"-7.8\" font-family=\"Helvetica,sans-Serif\" font-size=\"14.00\">class = u</text>\n</g>\n<!-- 2&#45;&gt;3 -->\n<g id=\"edge3\" class=\"edge\">\n<title>2&#45;&gt;3</title>\n<path fill=\"none\" stroke=\"black\" d=\"M158.26,-103.73C145.41,-94.15 131.73,-83.96 118.95,-74.44\"/>\n<polygon fill=\"black\" stroke=\"black\" points=\"120.81,-71.47 110.7,-68.3 116.63,-77.08 120.81,-71.47\"/>\n</g>\n<!-- 4 -->\n<g id=\"node5\" class=\"node\">\n<title>4</title>\n<path fill=\"#c8a9f4\" stroke=\"black\" d=\"M263.5,-68C263.5,-68 162.5,-68 162.5,-68 156.5,-68 150.5,-62 150.5,-56 150.5,-56 150.5,-12 150.5,-12 150.5,-6 156.5,0 162.5,0 162.5,0 263.5,0 263.5,0 269.5,0 275.5,-6 275.5,-12 275.5,-12 275.5,-56 275.5,-56 275.5,-62 269.5,-68 263.5,-68\"/>\n<text text-anchor=\"middle\" x=\"213\" y=\"-52.8\" font-family=\"Helvetica,sans-Serif\" font-size=\"14.00\">gini = 0.532</text>\n<text text-anchor=\"middle\" x=\"213\" y=\"-37.8\" font-family=\"Helvetica,sans-Serif\" font-size=\"14.00\">samples = 89</text>\n<text text-anchor=\"middle\" x=\"213\" y=\"-22.8\" font-family=\"Helvetica,sans-Serif\" font-size=\"14.00\">value = [8, 27, 54]</text>\n<text text-anchor=\"middle\" x=\"213\" y=\"-7.8\" font-family=\"Helvetica,sans-Serif\" font-size=\"14.00\">class = u</text>\n</g>\n<!-- 2&#45;&gt;4 -->\n<g id=\"edge4\" class=\"edge\">\n<title>2&#45;&gt;4</title>\n<path fill=\"none\" stroke=\"black\" d=\"M213,-103.73C213,-95.52 213,-86.86 213,-78.56\"/>\n<polygon fill=\"black\" stroke=\"black\" points=\"216.5,-78.3 213,-68.3 209.5,-78.3 216.5,-78.3\"/>\n</g>\n<!-- 6 -->\n<g id=\"node7\" class=\"node\">\n<title>6</title>\n<path fill=\"#e99355\" stroke=\"black\" d=\"M398.5,-68C398.5,-68 305.5,-68 305.5,-68 299.5,-68 293.5,-62 293.5,-56 293.5,-56 293.5,-12 293.5,-12 293.5,-6 299.5,0 305.5,0 305.5,0 398.5,0 398.5,0 404.5,0 410.5,-6 410.5,-12 410.5,-12 410.5,-56 410.5,-56 410.5,-62 404.5,-68 398.5,-68\"/>\n<text text-anchor=\"middle\" x=\"352\" y=\"-52.8\" font-family=\"Helvetica,sans-Serif\" font-size=\"14.00\">gini = 0.234</text>\n<text text-anchor=\"middle\" x=\"352\" y=\"-37.8\" font-family=\"Helvetica,sans-Serif\" font-size=\"14.00\">samples = 23</text>\n<text text-anchor=\"middle\" x=\"352\" y=\"-22.8\" font-family=\"Helvetica,sans-Serif\" font-size=\"14.00\">value = [20, 1, 2]</text>\n<text text-anchor=\"middle\" x=\"352\" y=\"-7.8\" font-family=\"Helvetica,sans-Serif\" font-size=\"14.00\">class = h</text>\n</g>\n<!-- 5&#45;&gt;6 -->\n<g id=\"edge6\" class=\"edge\">\n<title>5&#45;&gt;6</title>\n<path fill=\"none\" stroke=\"black\" d=\"M390.91,-103.73C386.01,-95.06 380.82,-85.9 375.88,-77.18\"/>\n<polygon fill=\"black\" stroke=\"black\" points=\"378.83,-75.28 370.85,-68.3 372.74,-78.73 378.83,-75.28\"/>\n</g>\n<!-- 7 -->\n<g id=\"node8\" class=\"node\">\n<title>7</title>\n<path fill=\"#eadefb\" stroke=\"black\" d=\"M527,-68C527,-68 441,-68 441,-68 435,-68 429,-62 429,-56 429,-56 429,-12 429,-12 429,-6 435,0 441,0 441,0 527,0 527,0 533,0 539,-6 539,-12 539,-12 539,-56 539,-56 539,-62 533,-68 527,-68\"/>\n<text text-anchor=\"middle\" x=\"484\" y=\"-52.8\" font-family=\"Helvetica,sans-Serif\" font-size=\"14.00\">gini = 0.615</text>\n<text text-anchor=\"middle\" x=\"484\" y=\"-37.8\" font-family=\"Helvetica,sans-Serif\" font-size=\"14.00\">samples = 19</text>\n<text text-anchor=\"middle\" x=\"484\" y=\"-22.8\" font-family=\"Helvetica,sans-Serif\" font-size=\"14.00\">value = [3, 7, 9]</text>\n<text text-anchor=\"middle\" x=\"484\" y=\"-7.8\" font-family=\"Helvetica,sans-Serif\" font-size=\"14.00\">class = u</text>\n</g>\n<!-- 5&#45;&gt;7 -->\n<g id=\"edge7\" class=\"edge\">\n<title>5&#45;&gt;7</title>\n<path fill=\"none\" stroke=\"black\" d=\"M440.07,-103.73C445.66,-94.97 451.59,-85.7 457.21,-76.91\"/>\n<polygon fill=\"black\" stroke=\"black\" points=\"460.28,-78.61 462.71,-68.3 454.38,-74.84 460.28,-78.61\"/>\n</g>\n<!-- 9 -->\n<g id=\"node10\" class=\"node\">\n<title>9</title>\n<path fill=\"#eb9c64\" stroke=\"black\" d=\"M753,-187C753,-187 637,-187 637,-187 631,-187 625,-181 625,-175 625,-175 625,-116 625,-116 625,-110 631,-104 637,-104 637,-104 753,-104 753,-104 759,-104 765,-110 765,-116 765,-116 765,-175 765,-175 765,-181 759,-187 753,-187\"/>\n<text text-anchor=\"middle\" x=\"695\" y=\"-171.8\" font-family=\"Helvetica,sans-Serif\" font-size=\"14.00\">Rooms &lt;= 2.5</text>\n<text text-anchor=\"middle\" x=\"695\" y=\"-156.8\" font-family=\"Helvetica,sans-Serif\" font-size=\"14.00\">gini = 0.327</text>\n<text text-anchor=\"middle\" x=\"695\" y=\"-141.8\" font-family=\"Helvetica,sans-Serif\" font-size=\"14.00\">samples = 204</text>\n<text text-anchor=\"middle\" x=\"695\" y=\"-126.8\" font-family=\"Helvetica,sans-Serif\" font-size=\"14.00\">value = [165, 15, 24]</text>\n<text text-anchor=\"middle\" x=\"695\" y=\"-111.8\" font-family=\"Helvetica,sans-Serif\" font-size=\"14.00\">class = h</text>\n</g>\n<!-- 8&#45;&gt;9 -->\n<g id=\"edge9\" class=\"edge\">\n<title>8&#45;&gt;9</title>\n<path fill=\"none\" stroke=\"black\" d=\"M695,-222.91C695,-214.65 695,-205.86 695,-197.3\"/>\n<polygon fill=\"black\" stroke=\"black\" points=\"698.5,-197.02 695,-187.02 691.5,-197.02 698.5,-197.02\"/>\n</g>\n<!-- 12 -->\n<g id=\"node13\" class=\"node\">\n<title>12</title>\n<path fill=\"#80eeae\" stroke=\"black\" d=\"M987,-187C987,-187 871,-187 871,-187 865,-187 859,-181 859,-175 859,-175 859,-116 859,-116 859,-110 865,-104 871,-104 871,-104 987,-104 987,-104 993,-104 999,-110 999,-116 999,-116 999,-175 999,-175 999,-181 993,-187 987,-187\"/>\n<text text-anchor=\"middle\" x=\"929\" y=\"-171.8\" font-family=\"Helvetica,sans-Serif\" font-size=\"14.00\">Landsize &lt;= 443.5</text>\n<text text-anchor=\"middle\" x=\"929\" y=\"-156.8\" font-family=\"Helvetica,sans-Serif\" font-size=\"14.00\">gini = 0.467</text>\n<text text-anchor=\"middle\" x=\"929\" y=\"-141.8\" font-family=\"Helvetica,sans-Serif\" font-size=\"14.00\">samples = 315</text>\n<text text-anchor=\"middle\" x=\"929\" y=\"-126.8\" font-family=\"Helvetica,sans-Serif\" font-size=\"14.00\">value = [49, 220, 46]</text>\n<text text-anchor=\"middle\" x=\"929\" y=\"-111.8\" font-family=\"Helvetica,sans-Serif\" font-size=\"14.00\">class = t</text>\n</g>\n<!-- 8&#45;&gt;12 -->\n<g id=\"edge12\" class=\"edge\">\n<title>8&#45;&gt;12</title>\n<path fill=\"none\" stroke=\"black\" d=\"M768.72,-226.64C794.48,-213.76 823.51,-199.25 849.71,-186.15\"/>\n<polygon fill=\"black\" stroke=\"black\" points=\"851.47,-189.18 858.85,-181.58 848.34,-182.92 851.47,-189.18\"/>\n</g>\n<!-- 10 -->\n<g id=\"node11\" class=\"node\">\n<title>10</title>\n<path fill=\"#ffffff\" stroke=\"black\" d=\"M670.5,-68C670.5,-68 569.5,-68 569.5,-68 563.5,-68 557.5,-62 557.5,-56 557.5,-56 557.5,-12 557.5,-12 557.5,-6 563.5,0 569.5,0 569.5,0 670.5,0 670.5,0 676.5,0 682.5,-6 682.5,-12 682.5,-12 682.5,-56 682.5,-56 682.5,-62 676.5,-68 670.5,-68\"/>\n<text text-anchor=\"middle\" x=\"620\" y=\"-52.8\" font-family=\"Helvetica,sans-Serif\" font-size=\"14.00\">gini = 0.602</text>\n<text text-anchor=\"middle\" x=\"620\" y=\"-37.8\" font-family=\"Helvetica,sans-Serif\" font-size=\"14.00\">samples = 32</text>\n<text text-anchor=\"middle\" x=\"620\" y=\"-22.8\" font-family=\"Helvetica,sans-Serif\" font-size=\"14.00\">value = [14, 4, 14]</text>\n<text text-anchor=\"middle\" x=\"620\" y=\"-7.8\" font-family=\"Helvetica,sans-Serif\" font-size=\"14.00\">class = h</text>\n</g>\n<!-- 9&#45;&gt;10 -->\n<g id=\"edge10\" class=\"edge\">\n<title>9&#45;&gt;10</title>\n<path fill=\"none\" stroke=\"black\" d=\"M667.07,-103.73C661.01,-94.88 654.6,-85.51 648.51,-76.63\"/>\n<polygon fill=\"black\" stroke=\"black\" points=\"651.35,-74.57 642.81,-68.3 645.57,-78.53 651.35,-74.57\"/>\n</g>\n<!-- 11 -->\n<g id=\"node12\" class=\"node\">\n<title>11</title>\n<path fill=\"#e89153\" stroke=\"black\" d=\"M829,-68C829,-68 713,-68 713,-68 707,-68 701,-62 701,-56 701,-56 701,-12 701,-12 701,-6 707,0 713,0 713,0 829,0 829,0 835,0 841,-6 841,-12 841,-12 841,-56 841,-56 841,-62 835,-68 829,-68\"/>\n<text text-anchor=\"middle\" x=\"771\" y=\"-52.8\" font-family=\"Helvetica,sans-Serif\" font-size=\"14.00\">gini = 0.222</text>\n<text text-anchor=\"middle\" x=\"771\" y=\"-37.8\" font-family=\"Helvetica,sans-Serif\" font-size=\"14.00\">samples = 172</text>\n<text text-anchor=\"middle\" x=\"771\" y=\"-22.8\" font-family=\"Helvetica,sans-Serif\" font-size=\"14.00\">value = [151, 11, 10]</text>\n<text text-anchor=\"middle\" x=\"771\" y=\"-7.8\" font-family=\"Helvetica,sans-Serif\" font-size=\"14.00\">class = h</text>\n</g>\n<!-- 9&#45;&gt;11 -->\n<g id=\"edge11\" class=\"edge\">\n<title>9&#45;&gt;11</title>\n<path fill=\"none\" stroke=\"black\" d=\"M723.3,-103.73C729.44,-94.88 735.94,-85.51 742.11,-76.63\"/>\n<polygon fill=\"black\" stroke=\"black\" points=\"745.06,-78.51 747.89,-68.3 739.31,-74.52 745.06,-78.51\"/>\n</g>\n<!-- 13 -->\n<g id=\"node14\" class=\"node\">\n<title>13</title>\n<path fill=\"#6eeca3\" stroke=\"black\" d=\"M987,-68C987,-68 871,-68 871,-68 865,-68 859,-62 859,-56 859,-56 859,-12 859,-12 859,-6 865,0 871,0 871,0 987,0 987,0 993,0 999,-6 999,-12 999,-12 999,-56 999,-56 999,-62 993,-68 987,-68\"/>\n<text text-anchor=\"middle\" x=\"929\" y=\"-52.8\" font-family=\"Helvetica,sans-Serif\" font-size=\"14.00\">gini = 0.372</text>\n<text text-anchor=\"middle\" x=\"929\" y=\"-37.8\" font-family=\"Helvetica,sans-Serif\" font-size=\"14.00\">samples = 270</text>\n<text text-anchor=\"middle\" x=\"929\" y=\"-22.8\" font-family=\"Helvetica,sans-Serif\" font-size=\"14.00\">value = [20, 209, 41]</text>\n<text text-anchor=\"middle\" x=\"929\" y=\"-7.8\" font-family=\"Helvetica,sans-Serif\" font-size=\"14.00\">class = t</text>\n</g>\n<!-- 12&#45;&gt;13 -->\n<g id=\"edge13\" class=\"edge\">\n<title>12&#45;&gt;13</title>\n<path fill=\"none\" stroke=\"black\" d=\"M929,-103.73C929,-95.52 929,-86.86 929,-78.56\"/>\n<polygon fill=\"black\" stroke=\"black\" points=\"932.5,-78.3 929,-68.3 925.5,-78.3 932.5,-78.3\"/>\n</g>\n<!-- 14 -->\n<g id=\"node15\" class=\"node\">\n<title>14</title>\n<path fill=\"#f1bc96\" stroke=\"black\" d=\"M1130.5,-68C1130.5,-68 1029.5,-68 1029.5,-68 1023.5,-68 1017.5,-62 1017.5,-56 1017.5,-56 1017.5,-12 1017.5,-12 1017.5,-6 1023.5,0 1029.5,0 1029.5,0 1130.5,0 1130.5,0 1136.5,0 1142.5,-6 1142.5,-12 1142.5,-12 1142.5,-56 1142.5,-56 1142.5,-62 1136.5,-68 1130.5,-68\"/>\n<text text-anchor=\"middle\" x=\"1080\" y=\"-52.8\" font-family=\"Helvetica,sans-Serif\" font-size=\"14.00\">gini = 0.513</text>\n<text text-anchor=\"middle\" x=\"1080\" y=\"-37.8\" font-family=\"Helvetica,sans-Serif\" font-size=\"14.00\">samples = 45</text>\n<text text-anchor=\"middle\" x=\"1080\" y=\"-22.8\" font-family=\"Helvetica,sans-Serif\" font-size=\"14.00\">value = [29, 11, 5]</text>\n<text text-anchor=\"middle\" x=\"1080\" y=\"-7.8\" font-family=\"Helvetica,sans-Serif\" font-size=\"14.00\">class = h</text>\n</g>\n<!-- 12&#45;&gt;14 -->\n<g id=\"edge14\" class=\"edge\">\n<title>12&#45;&gt;14</title>\n<path fill=\"none\" stroke=\"black\" d=\"M985.23,-103.73C998.56,-94.06 1012.75,-83.77 1025.98,-74.17\"/>\n<polygon fill=\"black\" stroke=\"black\" points=\"1028.04,-77 1034.08,-68.3 1023.93,-71.34 1028.04,-77\"/>\n</g>\n</g>\n</svg>\n",
            "text/plain": [
              "<graphviz.sources.Source at 0x78f63a5628c0>"
            ]
          },
          "metadata": {},
          "execution_count": 9
        }
      ],
      "source": [
        "# Write your code here\n",
        "t = tree.export_text(clf, feature_names=list(df_features.columns))\n",
        "\n",
        "\n",
        "graph_data = tree.export_graphviz(clf, out_file=None,\n",
        "                                  feature_names=list(df_features.columns),\n",
        "                                  class_names=list(set(df_target)),\n",
        "                                   filled=True, rounded=True)\n",
        "graph = graphviz.Source(graph_data, )\n",
        "graph"
      ]
    },
    {
      "cell_type": "markdown",
      "metadata": {
        "id": "eCYuDnc5N-io"
      },
      "source": [
        "# **Q5. Making predictions**"
      ]
    },
    {
      "cell_type": "markdown",
      "metadata": {
        "id": "w6bYv4DfgxgE"
      },
      "source": [
        "**Q5.1 Preprocess the test dataset as you did for the training set**\n",
        "\n",
        "*  Separate the features and target for test dataset\n",
        "*  One hot encode the categorical data"
      ]
    },
    {
      "cell_type": "code",
      "source": [
        "#Write your code here\n",
        "df_test_features = df_test.drop('Type', axis = 1)\n",
        "df_test_target = df_test['Type']\n",
        "\n",
        "categorical_variables = df_test_features.select_dtypes(include = 'object')\n",
        "df_test_features = pd.get_dummies(df_test_features)\n",
        "\n"
      ],
      "metadata": {
        "id": "ENBHOBu5aCd3"
      },
      "execution_count": 10,
      "outputs": []
    },
    {
      "cell_type": "markdown",
      "metadata": {
        "id": "6N620TWVR06V"
      },
      "source": [
        "**Q5.2 Extract one sample from the testing data, make a prediction, and visualize the prediction path**"
      ]
    },
    {
      "cell_type": "code",
      "source": [
        "# # Now, let's extract a random data instance from df_test\n",
        "import random\n",
        "random_instance_index = random.randint(0, len(df_test_features) - 1)\n",
        "random_instance = df_test_features.iloc[random_instance_index, :]\n",
        "\n",
        "\n",
        "\n",
        "\n",
        "# Visualize the prediction node path\n",
        "node_indicator = clf.decision_path([random_instance])\n",
        "\n",
        "# Get the indices of the nodes visited along the decision path\n",
        "node_indices = node_indicator.indices\n",
        "\n",
        "# Extract the node names and conditions for the decision path\n",
        "decision_path_info = []\n",
        "\n",
        "\n",
        "\n",
        "# Complete the code below\n",
        "# Get the feature index used at this node\n",
        "# Check if it's not a leaf node (-2 represents leaf nodes) and if so,\n",
        "# get the feature name and threshold (condition) used at this node\n",
        "for i in node_indices:\n",
        "  if random_instance_index < node_indicator.shape[0] and node_indicator.toarray()[random_instance_index, i] == 1:\n",
        "    if clf.tree_.children_left[i] != -1:\n",
        "      feature_index = clf.tree_.feature[i]\n",
        "      feature_name = df_test_features.columns[feature_index]\n",
        "      limit = clf.tree_.limit[i]\n",
        "      #conditioin = f\"If {feature_name} <= {limit}\"\n",
        "      decision_path_info.append((i,feature_name, condition))\n",
        "\n",
        "\n",
        "\n",
        "\n",
        "\n",
        "# Print the extracted decision path information\n",
        "for node_index, feature_name, condition in decision_path_info:\n",
        "  print(f\"Node {node_index}: {condition}\")\n"
      ],
      "metadata": {
        "id": "r8DbOu5pgIr8",
        "colab": {
          "base_uri": "https://localhost:8080/"
        },
        "outputId": "d82e19bf-769d-4296-88fc-49fae9990503"
      },
      "execution_count": 11,
      "outputs": [
        {
          "output_type": "stream",
          "name": "stderr",
          "text": [
            "/usr/local/lib/python3.10/dist-packages/sklearn/base.py:439: UserWarning: X does not have valid feature names, but DecisionTreeClassifier was fitted with feature names\n",
            "  warnings.warn(\n"
          ]
        }
      ]
    },
    {
      "cell_type": "markdown",
      "metadata": {
        "id": "MeNhnp6_tgOR"
      },
      "source": [
        "**Q5.3 Get the predicted result for the test set**"
      ]
    },
    {
      "cell_type": "code",
      "execution_count": 12,
      "metadata": {
        "id": "VUML5W9Bt3Sk",
        "colab": {
          "base_uri": "https://localhost:8080/"
        },
        "outputId": "cf7149e6-54e4-4415-9fc5-d3e9e0ac12fa"
      },
      "outputs": [
        {
          "output_type": "stream",
          "name": "stdout",
          "text": [
            "Accuracy: 0.7857142857142857\n"
          ]
        }
      ],
      "source": [
        "from sklearn.metrics import accuracy_score\n",
        "\n",
        "predictions = clf.predict(df_test_features)  # Replace df_test with your test dataset\n",
        "# Calculate the accuracy by comparing predictions with actual target labels\n",
        "accuracy = accuracy_score(df_test_target, predictions)  # Replace df_test_target with your actual target labels\n",
        "\n",
        "print(\"Accuracy:\", accuracy)"
      ]
    }
  ],
  "metadata": {
    "colab": {
      "provenance": []
    },
    "kernelspec": {
      "display_name": "Python 3 (ipykernel)",
      "language": "python",
      "name": "python3"
    },
    "language_info": {
      "codemirror_mode": {
        "name": "ipython",
        "version": 3
      },
      "file_extension": ".py",
      "mimetype": "text/x-python",
      "name": "python",
      "nbconvert_exporter": "python",
      "pygments_lexer": "ipython3",
      "version": "3.10.12"
    }
  },
  "nbformat": 4,
  "nbformat_minor": 0
}