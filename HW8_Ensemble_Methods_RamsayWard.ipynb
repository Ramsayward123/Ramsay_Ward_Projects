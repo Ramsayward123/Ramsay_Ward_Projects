{
  "nbformat": 4,
  "nbformat_minor": 0,
  "metadata": {
    "colab": {
      "provenance": []
    },
    "kernelspec": {
      "name": "python3",
      "display_name": "Python 3"
    },
    "language_info": {
      "name": "python"
    }
  },
  "cells": [
    {
      "cell_type": "markdown",
      "source": [
        "## **HW8 Ensemble Methods**\n",
        "\n",
        "## **TODO: Ramsay Ward**\n",
        "\n",
        "\n",
        "### **Introduction**\n",
        "\n",
        "\n",
        "In this Homework, you are going explore two ensemble methods:\n",
        "\n",
        "  - AdaBoost, and\n",
        "  - Random Forests\n",
        "\n",
        "And make a recommendation for a bank about which model they should use in production for better fraud detection.\n",
        "\n",
        "### **Dataset**\n",
        "  \n",
        "The dataset for this assignment contains transactions made by credit cards in September 2013 by european cardholders. This dataset presents transactions that occurred in two days, where we have 237 frauds out of 142,167 transactions. The dataset is highly unbalanced, the positive class (frauds) account for 0.17% of all transactions.\n",
        "\n",
        "It contains only numerical input variables which are the result of a [PCA transformation](https://en.wikipedia.org/wiki/Principal_component_analysis). Unfortunately, due to confidentiality issues, we cannot provide the original features and more background information about the data. Features V1, V2, … V28 are the principal components obtained with PCA, the only features which have not been transformed with PCA are 'Time' and 'Amount'. Feature 'Time' contains the seconds elapsed between each transaction and the first transaction in the dataset. The feature 'Amount' is the transaction Amount in Euros. Feature 'Class' is the response variable and it takes value 1 in case of fraud and 0 otherwise."
      ],
      "metadata": {
        "id": "2ei_wNjwbMVN"
      }
    },
    {
      "cell_type": "code",
      "source": [
        "# These are the libraries you will use for this assignment, you may not import anything else\n",
        "import pandas as pd\n",
        "import numpy as np\n",
        "import matplotlib.pyplot as plt\n",
        "%matplotlib inline\n",
        "from sklearn.ensemble import AdaBoostClassifier\n",
        "from sklearn.ensemble import RandomForestClassifier\n",
        "from sklearn.model_selection import StratifiedKFold\n",
        "from sklearn.metrics import roc_curve, RocCurveDisplay, auc"
      ],
      "metadata": {
        "id": "jETuQ9egbKwd"
      },
      "execution_count": 1,
      "outputs": []
    },
    {
      "cell_type": "markdown",
      "source": [
        "#### **Utilizing the provided credit card data, we will employ methods from sklearn for cross-validation to estimate error.**"
      ],
      "metadata": {
        "id": "04FZuFfB3A2h"
      }
    },
    {
      "cell_type": "code",
      "source": [
        "df_cc = pd.read_csv('cc.csv')"
      ],
      "metadata": {
        "id": "AQmqHOrI3CJf"
      },
      "execution_count": 2,
      "outputs": []
    },
    {
      "cell_type": "markdown",
      "source": [
        "## **Q1 Partition the data for cross validation**\n",
        "\n",
        "\n",
        "\n",
        "Import the dataset and divide it into two parts: 𝑋 (features, stored in `df_X`) and 𝑦 (target, stored in `s_y`). Establish our data partitions.\n",
        "\n",
        "Given the significant imbalance in the dataset, there's concern about the target class being insufficiently represented in a random k-fold split. To address this, we opt for a [stratified k-fold](https://scikit-learn.org/stable/modules/generated/sklearn.model_selection.StratifiedKFold.html) approach, which ensures the preservation of class proportions across our tests. We'll use `𝑘=3`. Create a `StratifiedKFold` instance and utilize its `split` method to fill the training and testing dictionaries.\n",
        "\n",
        "   - `d_train_df_X` : key is the fold number, value is the attribute training dataframe at that fold\n",
        "   - `d_test_df_X`  : key is the fold number, value is the attribute test dataframe at that fold\n",
        "   - `d_train_s_y`  : key is the fold number, value is the target training series at that fold\n",
        "   - `d_train_s_y`  : key is the fold number, value is the target test series at that fold"
      ],
      "metadata": {
        "id": "8rpT4BokbOPW"
      }
    },
    {
      "cell_type": "code",
      "execution_count": 10,
      "metadata": {
        "id": "4Ru9_cKzV8Nw"
      },
      "outputs": [],
      "source": [
        "\n",
        "df_cc = df_cc.dropna()\n",
        "df_X = df_cc.drop(columns=['Class'])\n",
        "s_y = df_cc['Class']\n",
        "skf = StratifiedKFold(n_splits=3,shuffle=True,random_state=23)\n",
        "\n",
        "\n",
        "d_train_df_X = dict()\n",
        "d_test_df_X = dict()\n",
        "d_train_s_y = dict()\n",
        "d_test_s_y = dict()\n",
        "\n",
        "# Write your code here\n",
        "\n",
        "for fold_index, (train_index, test_index) in enumerate(skf.split(df_X, s_y)):\n",
        "    train_X = df_X.iloc[train_index]\n",
        "    test_X = df_X.iloc[test_index]\n",
        "    train_y = s_y.iloc[train_index]\n",
        "    test_y = s_y.iloc[test_index]\n",
        "    d_train_df_X[fold_index] = train_X\n",
        "    d_test_df_X[fold_index] = test_X\n",
        "    d_train_s_y[fold_index] = train_y\n",
        "    d_test_s_y[fold_index] = test_y\n",
        "\n"
      ]
    },
    {
      "cell_type": "code",
      "source": [
        "# Observe the test data and verify that the target training is as equally distributed as possible\n",
        "for key in d_test_s_y.keys():\n",
        "    print(d_test_s_y[key].value_counts())"
      ],
      "metadata": {
        "id": "OeGYsMElpNdk",
        "colab": {
          "base_uri": "https://localhost:8080/"
        },
        "outputId": "3a61c388-5825-412e-c454-fcb7d2e4cd64"
      },
      "execution_count": 4,
      "outputs": [
        {
          "output_type": "stream",
          "name": "stdout",
          "text": [
            "0    47389\n",
            "1       79\n",
            "Name: Class, dtype: int64\n",
            "0    47389\n",
            "1       79\n",
            "Name: Class, dtype: int64\n",
            "0    47389\n",
            "1       79\n",
            "Name: Class, dtype: int64\n"
          ]
        }
      ]
    },
    {
      "cell_type": "markdown",
      "source": [
        "## **Q2 Implementing AdaBoost Classifier**\n",
        "\n",
        "As we learned in class, AdaBoost is a boosting ensemble method that starts with a weak classifier and iteratively adds to it by focusing on the misclassified instances. In many AdaBoost implementations, \"Decision Stumps\" (decision trees with a single split) are used as the base classifier.\n",
        "\n",
        "While AdaBoost can work with various base classifiers, the default in `Scikit-learn`'s implementation is `DecisionTreeClassifier(max_depth=1)`, which is essentially a decision stump (a weak classifier).\n",
        "\n",
        "In this question, you will implement a function called `train_and_plot_adaboost()` that will do the following:\n",
        "\n",
        "* Model training and prediction: Instantiate the AdaBoost classifier with the specified parameters: `AdaBoostClassifier(n_estimators=25, random_state=23)`\n",
        "\n",
        "* `fit` to train the model.For predictions, you can use `predict` method for class predictions or `predict_proba` method to get the probability of being in class 0 or class 1. You will do cross-validation by loop over the 𝑘 folds using the dictionaries from the first problem. For each fold, calculate the following metrics:\n",
        "    * Accuracy\n",
        "    * True Positive Rate (TPR)\n",
        "    * Positive Predictive Value (PPV)\n",
        "    * False Positive Rate (FPR)\n",
        "    * ROC Curve Plotting:\n",
        "\n",
        "* Plot the ROC curve for each fold. You may use the roc_curve, RocCurveDisplay, from Scikit-learn. There is a great example in the documentation on plotting ROC curves in cross validation that is helpful.\n",
        "\n",
        "\n",
        "* After looping through all the folds, save the predictions from the 3rd fold into a variable named `y_hat_ab`. This is the variable your function will return.\n",
        "\n",
        "* Your function should have a complete docstring.\n",
        "\n",
        "\n",
        "AdaBoost focuses on instances that were misclassified in previous iterations, which can lead to improved performance. Depending on the data size and the number of estimators, AdaBoost can take some time to run. Please be patient and allow it a few minutes if needed.\n"
      ],
      "metadata": {
        "id": "1if1dH4ofJKl"
      }
    },
    {
      "cell_type": "code",
      "source": [
        "def train_and_plot_adaboost():\n",
        "  '''\n",
        "  Trains an AdaBoost classifier on each fold of the provided data and plots the ROC curves.\n",
        "\n",
        "  Returns:\n",
        "     y_hat_ab (numpy array): Predictions from the third fold.\n",
        "  '''\n",
        "  k = 3\n",
        "  acc_ab = np.zeros(k)\n",
        "  tpr_ab = np.zeros(k)\n",
        "  ppv_ab = np.zeros(k)\n",
        "  fpr_ab = np.zeros(k)\n",
        "\n",
        "  fold_count = 0\n",
        "  fig, ax = plt.subplots()\n",
        "\n",
        "  # Complete this function\n",
        "  for key in d_train_df_X.keys():\n",
        "      print(\"Working on {}\".format(key))\n",
        "\n",
        "      # Train AdaBoost classifier\n",
        "      ada_model = AdaBoostClassifier(n_estimators=25, random_state=23)\n",
        "      ada_model.fit(d_train_df_X[key], d_train_s_y[key])\n",
        "\n",
        "      # Predict the decision function scores\n",
        "      y_hat = ada_model.predict(d_test_df_X[key])\n",
        "\n",
        "      # Compute the ROC values\n",
        "      y_score = ada_model.predict_proba(d_test_df_X[key])[:, 1]\n",
        "      fpr, tpr, _ = roc_curve(d_test_s_y[key], y_score)\n",
        "      roc_auc = auc(fpr, tpr)\n",
        "\n",
        "      # Compute the AUC (Area Under the Curve)\n",
        "      roc_display = RocCurveDisplay(fpr=fpr, tpr=tpr, roc_auc=roc_auc)\n",
        "\n",
        "      # Plot the ROC curve using RocCurveDisplay\n",
        "      roc_display.plot(ax=ax, name=f'ROC fold {fold_count}')\n",
        "\n",
        "      # Accuracy\n",
        "\n",
        "      correct_predictions = np.sum(y_hat == d_test_s_y[key])\n",
        "      total_predictions = len(y_hat)\n",
        "      accuracy = correct_predictions / total_predictions\n",
        "      acc_ab[fold_count] = accuracy\n",
        "\n",
        "      # True positive rate\n",
        "      true_positives = np.sum((y_hat == 1) & (d_test_s_y[key] == 1))\n",
        "      false_negatives = np.sum((y_hat == 0) & (d_test_s_y[key] == 1))\n",
        "      recall = true_positives / (true_positives + false_negatives) if false_negatives != 0 else 0\n",
        "      tpr_ab[fold_count] = recall\n",
        "\n",
        "      # False positive rate\n",
        "      false_positives = np.sum((y_hat == 1) & (d_test_s_y[key] == 0))\n",
        "      true_negatives = np.sum((y_hat == 0) & (d_test_s_y[key] == 0))\n",
        "      fpr_ab[fold_count] = false_positives / (false_positives + true_negatives) if true_negatives != 0 else 0\n",
        "\n",
        "      # Positive Predictive Value\n",
        "      true_positives = np.sum((y_hat == 1) & (d_test_s_y[key] == 1))\n",
        "      false_positives = np.sum((y_hat == 1) & (d_test_s_y[key] == 0))\n",
        "      ppv_ab[fold_count] = true_positives / (true_positives + false_positives) if (true_positives+false_positives) != 0 else 0\n",
        "\n",
        "      fold_count += 1\n",
        "\n",
        "  print('The min, mean, and max TPR are: {:.2f}, {:.2f}, and {:.2f}'.format(tpr_ab.min(), tpr_ab.mean(), tpr_ab.max()))\n",
        "  print('The min, mean, and max PPV are: {:.2f}, {:.2f}, and {:.2f}'.format(ppv_ab.min(), ppv_ab.mean(), ppv_ab.max()))\n",
        "  print('The min, mean, and max ACC are: {:.2f}, {:.2f}, and {:.2f}'.format(acc_ab.min(), acc_ab.mean(), acc_ab.max()))\n",
        "\n",
        "  # plot the ROC Curve\n",
        "\n",
        "  plt.show()\n",
        "\n",
        "  return y_hat\n",
        "\n",
        "\n",
        "y_hat_ab = train_and_plot_adaboost()\n"
      ],
      "metadata": {
        "id": "QyLd57HUV8_2",
        "colab": {
          "base_uri": "https://localhost:8080/",
          "height": 556
        },
        "outputId": "1c5479c0-1dd3-4e7a-e9d7-e6a7ed42355f"
      },
      "execution_count": 5,
      "outputs": [
        {
          "output_type": "stream",
          "name": "stdout",
          "text": [
            "Working on 0\n",
            "Working on 1\n",
            "Working on 2\n",
            "The min, mean, and max TPR are: 0.62, 0.65, and 0.71\n",
            "The min, mean, and max PPV are: 0.75, 0.79, and 0.82\n",
            "The min, mean, and max ACC are: 1.00, 1.00, and 1.00\n"
          ]
        },
        {
          "output_type": "display_data",
          "data": {
            "text/plain": [
              "<Figure size 640x480 with 1 Axes>"
            ],
            "image/png": "[encoded data removed]"
          },
          "metadata": {}
        }
      ]
    },
    {
      "cell_type": "markdown",
      "source": [
        "### **Q3 Implementing The Random Forest Classifier and Testing Its Performance**\n",
        "\n",
        "Random Forest is an ensemble method that constructs a multitude of decision trees during training. For predictions, the mode of the classes (classification) of individual trees is used. The trees are built completely with no pruning. Hence, every leaf in the tree will be pure, but individual trees might be overfitted to the training set.\n",
        "\n",
        "In this question, you will implement a function called `train_and_plot_randomforest()` where you will implement the following:\n",
        "\n",
        "* While building the decision trees, at every internal node, randomly select 𝑝 attributes. Identify the best split that minimizes impurity among these 𝑝 attributes. The parameter 𝑝 corresponds to the `max_features` parameter in the `Scikit-learn`'s Random Forest Classifier.\n",
        "\n",
        "**Model Training**\n",
        "* Instantiate the Random Forest classifier with the specified parameters:\n",
        "`RandomForestClassifier(criterion=\"entropy\", max_features=\"sqrt\", random_state=23)`. `fit` to train the model. For predictions, you can use `predict` method for class predictions. `predict_proba` method to get the probability of being in class 0 or class 1. These probabilities are used when creating ROC curves.\n",
        "\n",
        "**Cross Validation**\n",
        "\n",
        "* Loop over the 𝑘 folds using the dictionaries from the first problem.\n",
        "For each fold, calculate the following metrics:\n",
        "* Accuracy\n",
        "* True Positive Rate (TPR)\n",
        "* Positive Predictive Value (PPV)\n",
        "* False Positive Rate (FPR)\n",
        "\n",
        "**ROC Curve Plotting**\n",
        "\n",
        "* Using the probabilities obtained from `predict_proba`, compute the ROC values.\n",
        "* Plot the ROC curve for each fold. You can utilize the `RocCurveDisplay` from `Scikit-learn`.\n",
        "* Refer to the Scikit-learn documentation for an example on plotting ROC curves in cross-validation.\n",
        "\n",
        "**Saving Predictions**\n",
        "\n",
        "* After looping through all the folds, save the predictions from the 3rd fold into a variable named `y_hat_rf`. This is what your function will return.\n",
        "\n"
      ],
      "metadata": {
        "id": "m4n_GGDQZzvS"
      }
    },
    {
      "cell_type": "code",
      "source": [
        "def train_and_plot_randomforest():\n",
        "    '''\n",
        "    Trains a Random Forest classifier on the provided training data and plots the ROC curve\n",
        "    for each fold in the cross-validation process.\n",
        "\n",
        "    The function uses a Random Forest with specified hyperparameters. For each fold in the\n",
        "    cross-validation, the function computes accuracy, TPR, PPV, and FPR, and plots the\n",
        "    corresponding ROC curve. The ROC curve is generated using the class probabilities\n",
        "    for the positive class from the Random Forest classifier.\n",
        "\n",
        "    Parameters:\n",
        "    None. The function relies on globally defined datasets and split indices.\n",
        "\n",
        "    Returns:\n",
        "    y_hat : numpy array\n",
        "        Predictions for the instances in the test set for the 3rd fold.\n",
        "\n",
        "    Note:\n",
        "    This function assumes that certain variables like training and test sets are\n",
        "    defined in the global namespace.\n",
        "    '''\n",
        "    k = 3\n",
        "    acc_rf = np.zeros(k)\n",
        "    tpr_rf = np.zeros(k)\n",
        "    ppv_rf = np.zeros(k)\n",
        "    fpr_rf = np.zeros(k)\n",
        "\n",
        "    fold_count = 0\n",
        "    fig, ax = plt.subplots()\n",
        "\n",
        "    # Complete this function\n",
        "    for key in d_train_df_X.keys():\n",
        "        print(\"Working on {}\".format(key))\n",
        "\n",
        "        # Train RandomForest classifier\n",
        "        rf_clf = RandomForestClassifier(criterion=\"entropy\", max_features=\"sqrt\", random_state=23)\n",
        "        rf_clf.fit(d_train_df_X[key], d_train_s_y[key])\n",
        "\n",
        "        # Get the probability scores for the positive class\n",
        "        y_score = rf_clf.predict_proba(d_test_df_X[key])[:, 1]\n",
        "\n",
        "        # Compute the ROC values\n",
        "        fpr, tpr, _ = roc_curve(d_test_s_y[key], y_score)\n",
        "        roc_auc = auc(fpr, tpr)\n",
        "\n",
        "        # Compute the AUC (Area Under the Curve)\n",
        "        roc_display = RocCurveDisplay(fpr=fpr, tpr=tpr, roc_auc=roc_auc)\n",
        "\n",
        "        # Plot the ROC curve using RocCurveDisplay\n",
        "        roc_display.plot(ax=ax, name=f'ROC fold {fold_count}')\n",
        "\n",
        "\n",
        "        # Accuracy\n",
        "        y_pred = rf_clf.predict(d_test_df_X[key])\n",
        "        correct_predictions = np.sum(y_pred == d_test_s_y[key])\n",
        "        total_predictions = len(y_pred)\n",
        "        accuracy = correct_predictions / total_predictions\n",
        "        acc_rf[fold_count] = accuracy\n",
        "\n",
        "\n",
        "        # True positive rate\n",
        "        true_positives = np.sum((y_pred == 1) & (d_test_s_y[key] == 1))\n",
        "        actual_positives = np.sum(d_test_s_y[key] == 1)\n",
        "        recall = true_positives / actual_positives if actual_positives != 0 else 0\n",
        "        tpr_rf[fold_count] = recall\n",
        "\n",
        "\n",
        "        # False positive\n",
        "        false_positives = np.sum((y_pred == 1) & (d_test_s_y[key] == 0))\n",
        "        actual_negatives = np.sum(d_test_s_y[key] == 0)\n",
        "        fpr_rf[fold_count] = false_positives / actual_negatives if actual_negatives != 0 else 0\n",
        "\n",
        "\n",
        "        # Positive Predictive\n",
        "        true_positives = np.sum((y_pred == 1) & (d_test_s_y[key] == 1))\n",
        "        false_positives = np.sum((y_pred == 1) & (d_test_s_y[key] == 0))\n",
        "        ppv_rf[fold_count] = true_positives / (true_positives + false_positives) if (true_positives + false_positives) != 0 else 0\n",
        "\n",
        "\n",
        "        fold_count += 1\n",
        "                                                                                                          # add epsilon to avoid division by zero\n",
        "\n",
        "\n",
        "\n",
        "    print('The min, mean, and max TPR are: {:.2f}, {:.2f}, and {:.2f}'.format(tpr_rf.min(), tpr_rf.mean(), tpr_rf.max()))\n",
        "    print('The min, mean, and max PPV are: {:.2f}, {:.2f}, and {:.2f}'.format(ppv_rf.min(), ppv_rf.mean(), ppv_rf.max()))\n",
        "    print('The min, mean, and max ACC are: {:.2f}, {:.2f}, and {:.2f}'.format(acc_rf.min(), acc_rf.mean(), acc_rf.max()))\n",
        "\n",
        "    #plot the ROC curve\n",
        "\n",
        "    plt.show()\n",
        "\n",
        "    return y_score\n",
        "\n",
        "\n",
        "y_hat_rf = train_and_plot_randomforest()"
      ],
      "metadata": {
        "id": "ooz8240zV9G9",
        "colab": {
          "base_uri": "https://localhost:8080/",
          "height": 556
        },
        "outputId": "1e37e879-c736-45dd-c1ea-6fc8a7c14b50"
      },
      "execution_count": 12,
      "outputs": [
        {
          "output_type": "stream",
          "name": "stdout",
          "text": [
            "Working on 0\n",
            "Working on 1\n",
            "Working on 2\n",
            "The min, mean, and max TPR are: 0.75, 0.78, and 0.80\n",
            "The min, mean, and max PPV are: 0.92, 0.93, and 0.95\n",
            "The min, mean, and max ACC are: 1.00, 1.00, and 1.00\n"
          ]
        },
        {
          "output_type": "display_data",
          "data": {
            "text/plain": [
              "<Figure size 640x480 with 1 Axes>"
            ],
            "image/png": "[encoded data removed]"
          },
          "metadata": {}
        }
      ]
    },
    {
      "cell_type": "markdown",
      "source": [
        "### **Q4 Calculate the Cost of Fraud**\n",
        "\n",
        "In the above problems, we saved the predictions of the 3rd fold into the variables `y_hat_ab` and `y_hat_rf` for the AdaBoost and RandomForest models respectively.\n",
        "\n",
        "Now, the Bank wants you to tell them how much money they are going to save if they deploy either of these fraud algorithms to the real-time payment processing system.  Assume that there is not a currently deployed fraud detection algorithm.  \n",
        "\n",
        "For every fraudulent transaction that is not predicted as fraudulent the bank looses twice that much money.  So, a fradulent charge for €10 is undectected, it costs the bank €20.  Also, if a charge is predicted as fradulent, but wasn't, it costs the bank a flat fee of €3 in customer service support to communicate with the customer, and mark the possible fraud as a normal transaction.\n",
        "\n",
        "Using the 3rd fold test sample, calculate how much money the Bank will save with each algorithm, and make a recommendation of which algorithm to deploy to production. All amounts are given in Euros."
      ],
      "metadata": {
        "id": "-rkrZXJojsxg"
      }
    },
    {
      "cell_type": "code",
      "source": [
        "# First, calculate the current cost to the bank with no fraud decection\n",
        "fold_3_amount = d_test_df_X[2]['Amount']\n",
        "current_cost = fold_3_amount[ d_test_s_y[2] == 1].sum()*2.0\n",
        "print(\"The current cost to the bank is €{:.2f}\".format(current_cost))"
      ],
      "metadata": {
        "id": "A6bQB-lijcy-",
        "colab": {
          "base_uri": "https://localhost:8080/"
        },
        "outputId": "db254809-ae7b-4898-a84b-709d3c7714a4"
      },
      "execution_count": 7,
      "outputs": [
        {
          "output_type": "stream",
          "name": "stdout",
          "text": [
            "The current cost to the bank is €22484.74\n"
          ]
        }
      ]
    },
    {
      "cell_type": "code",
      "source": [
        "# Write your code here\n",
        "cost_ab_undetected_fraud = 2 * np.sum((fold_3_amount == 1) & (y_hat_ab == 0))\n",
        "cost_ab_false_fraud = 3 * np.sum((fold_3_amount == 0) & (y_hat_ab == 1))\n",
        "print(\"The bank will save €{:.2f} by deploying the AdaBoost algorithm\".format(current_cost-cost_ab_undetected_fraud-cost_ab_false_fraud))"
      ],
      "metadata": {
        "id": "KpkmUIFWjfTn",
        "colab": {
          "base_uri": "https://localhost:8080/"
        },
        "outputId": "b686dd95-f562-4034-d52a-52240dcd883f"
      },
      "execution_count": 8,
      "outputs": [
        {
          "output_type": "stream",
          "name": "stdout",
          "text": [
            "The bank will save €18087.74 by deploying the AdaBoost algorithm\n"
          ]
        }
      ]
    },
    {
      "cell_type": "code",
      "source": [
        "# Write your code here\n",
        "cost_rf_undetected_fraud = 2 * np.sum((fold_3_amount == 1) & (y_hat_rf == 0))\n",
        "cost_rf_false_fraud = 3 * np.sum((fold_3_amount == 0) & (y_hat_rf == 1))\n",
        "print(\"The bank will save €{:.2f} by deploying the Random Forest algorithm\".format(current_cost-cost_rf_undetected_fraud-cost_rf_false_fraud))"
      ],
      "metadata": {
        "id": "eJ7KL2f3ji-f",
        "colab": {
          "base_uri": "https://localhost:8080/"
        },
        "outputId": "1c9f45ed-243a-48d2-f74e-4e5cda3d9162"
      },
      "execution_count": 9,
      "outputs": [
        {
          "output_type": "stream",
          "name": "stdout",
          "text": [
            "The bank will save €18271.74 by deploying the Random Forest algorithm\n"
          ]
        }
      ]
    },
    {
      "cell_type": "markdown",
      "source": [
        "### **TODO: Your Answer** Which model the bank should deploy in production?"
      ],
      "metadata": {
        "id": "rtXKd1HskD1a"
      }
    },
    {
      "cell_type": "markdown",
      "source": [
        "The bank should use the random forrest model as it is predicting more true fraud than the adaboost model, and thus is saving more money for the bank overall."
      ],
      "metadata": {
        "id": "OKjXeyPm7Bw6"
      }
    },
    {
      "cell_type": "code",
      "source": [],
      "metadata": {
        "id": "QKSfph2QrQv-"
      },
      "execution_count": 9,
      "outputs": []
    }
  ]
}