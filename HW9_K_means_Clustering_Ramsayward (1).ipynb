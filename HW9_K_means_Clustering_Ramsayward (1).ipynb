{
  "nbformat": 4,
  "nbformat_minor": 0,
  "metadata": {
    "colab": {
      "provenance": []
    },
    "kernelspec": {
      "name": "python3",
      "display_name": "Python 3"
    },
    "language_info": {
      "name": "python"
    }
  },
  "cells": [
    {
      "cell_type": "markdown",
      "source": [
        "## **HW9 K-means Clustering**\n",
        "\n",
        "## **TODO: Ramsay Ward**\n",
        "\n",
        "\n",
        "### **Introduction**\n",
        "\n",
        "For this week's homework we are going explore our first clustering method:\n",
        "\n",
        "  - K-Means\n",
        "  \n",
        "As we discussed in lecture, k-means creates clusters based on a distance measure.  Using a small example data set, we will implement the algorithm and visualize the results.\n",
        "\n",
        "Even though the example data is small and 2 dimensional, write your helper functions to not assume a 2-D data set.  Your plotting code can reference the `x` and `y` column names from the sample data directly.\n",
        "\n",
        "**Please ensure that all functions you implement include comprehensive docstrings with all the necessary components. The first method's docstring is provided for you as an example.**\n"
      ],
      "metadata": {
        "id": "xisujt7soDBd"
      }
    },
    {
      "cell_type": "code",
      "execution_count": 1,
      "metadata": {
        "id": "PfRNU2LGnBHK"
      },
      "outputs": [],
      "source": [
        "# Please do not import any other libraries\n",
        "import pandas as pd\n",
        "import matplotlib.pyplot as plt\n",
        "import numpy as np\n",
        "%matplotlib inline"
      ]
    },
    {
      "cell_type": "markdown",
      "source": [
        "# **K-Means Algorithm**\n",
        "\n",
        "We will implement the Algorithm 7.1 \"Basic K-means algorithm\", from our textbook and apply that algorithm to a small data set provided with the assignment in the `data_kmeans.csv` file. We will build up some helper functions along the way, test them, and put it all together to apply to our small example data set."
      ],
      "metadata": {
        "id": "lRpU4W-TzF3o"
      }
    },
    {
      "cell_type": "markdown",
      "source": [
        "**Load the Data**\n"
      ],
      "metadata": {
        "id": "53lXs376zXLy"
      }
    },
    {
      "cell_type": "code",
      "source": [
        "# Load the data from the provided CSV file into a dataframe.\n",
        "# Write your code here\n",
        "df_kmeans = pd.read_csv(\"data_kmeans.csv\")\n",
        "print(df_kmeans)"
      ],
      "metadata": {
        "id": "ckJ8nPLDzMTo",
        "colab": {
          "base_uri": "https://localhost:8080/"
        },
        "outputId": "82c27412-1fbf-43d9-d47d-7d4efa14a279"
      },
      "execution_count": 2,
      "outputs": [
        {
          "output_type": "stream",
          "name": "stdout",
          "text": [
            "            x         y\n",
            "0   -0.731698 -0.874311\n",
            "1   -0.547702 -0.580320\n",
            "2   -0.762840 -0.885572\n",
            "3   -0.340946 -0.810411\n",
            "4   -0.749065 -0.399218\n",
            "..        ...       ...\n",
            "445 -0.526437  0.543792\n",
            "446 -0.706212  0.630983\n",
            "447 -0.470187  0.763061\n",
            "448 -0.395677  0.542105\n",
            "449 -0.524339  0.433905\n",
            "\n",
            "[450 rows x 2 columns]\n"
          ]
        }
      ]
    },
    {
      "cell_type": "markdown",
      "source": [
        "## **Q1 - Write a function that returns `k` random rows from a data frame**\n",
        "\n",
        "**A)** To initialize the centroids, we pick `k` random points from a data frame.  Write a function `init_centroids( df_data, k )` that accepts two parameters: a data frame `df_data`, and an integer `k`, and returns the initial centroids for our k-means algorithm.  Note, we want the indices of the returned dataframe to range from 0 - (k-1) so that we can use these as the centroid labels.  Use [pandas sample](https://pandas.pydata.org/pandas-docs/stable/reference/api/pandas.DataFrame.sample.html) method, and pass it the value of $42$ for `random_state`. Your function must have proper docstring."
      ],
      "metadata": {
        "id": "p4IJvFNtykSc"
      }
    },
    {
      "cell_type": "code",
      "source": [
        "def init_centroids( df_data, k ):\n",
        "  \"\"\"\n",
        "    Initializes centroids for k-means algorithm.\n",
        "\n",
        "    Parameters:\n",
        "        df_data (DataFrame): Input data frame.\n",
        "        k (int): Number of centroids to initialize.\n",
        "\n",
        "    Returns:\n",
        "        DataFrame: DataFrame containing initial centroids.\n",
        "    \"\"\"\n",
        "    # Write your code here\n",
        "  centroids = df_data.sample(n=k, random_state=42)\n",
        "  centroids.reset_index(drop=True, inplace=True)\n",
        "\n",
        "  return centroids"
      ],
      "metadata": {
        "id": "GVllpRB-ykZg"
      },
      "execution_count": 3,
      "outputs": []
    },
    {
      "cell_type": "markdown",
      "source": [
        "**B)** Call your function with the dataframe you created earlier"
      ],
      "metadata": {
        "id": "ej1XdX9-ykgK"
      }
    },
    {
      "cell_type": "code",
      "source": [
        "# Write your code here\n",
        "df_centroids = init_centroids( df_kmeans, 7 )\n",
        "df_centroids"
      ],
      "metadata": {
        "id": "fXh5-G_iykl-",
        "colab": {
          "base_uri": "https://localhost:8080/",
          "height": 268
        },
        "outputId": "99c1082b-5db7-4ba5-fa82-8ddbfbfdefbf"
      },
      "execution_count": 16,
      "outputs": [
        {
          "output_type": "execute_result",
          "data": {
            "text/plain": [
              "          x         y\n",
              "0 -0.633437  0.488756\n",
              "1 -0.597736  0.632194\n",
              "2 -0.635867  0.166613\n",
              "3 -0.539351 -0.875532\n",
              "4 -0.588597  0.293062\n",
              "5 -0.127985 -0.136639\n",
              "6  0.342579  0.211717"
            ],
            "text/html": [
              "\n",
              "  <div id=\"df-34814e5a-7610-4705-9abc-3626bf7d6454\" class=\"colab-df-container\">\n",
              "    <div>\n",
              "<style scoped>\n",
              "    .dataframe tbody tr th:only-of-type {\n",
              "        vertical-align: middle;\n",
              "    }\n",
              "\n",
              "    .dataframe tbody tr th {\n",
              "        vertical-align: top;\n",
              "    }\n",
              "\n",
              "    .dataframe thead th {\n",
              "        text-align: right;\n",
              "    }\n",
              "</style>\n",
              "<table border=\"1\" class=\"dataframe\">\n",
              "  <thead>\n",
              "    <tr style=\"text-align: right;\">\n",
              "      <th></th>\n",
              "      <th>x</th>\n",
              "      <th>y</th>\n",
              "    </tr>\n",
              "  </thead>\n",
              "  <tbody>\n",
              "    <tr>\n",
              "      <th>0</th>\n",
              "      <td>-0.633437</td>\n",
              "      <td>0.488756</td>\n",
              "    </tr>\n",
              "    <tr>\n",
              "      <th>1</th>\n",
              "      <td>-0.597736</td>\n",
              "      <td>0.632194</td>\n",
              "    </tr>\n",
              "    <tr>\n",
              "      <th>2</th>\n",
              "      <td>-0.635867</td>\n",
              "      <td>0.166613</td>\n",
              "    </tr>\n",
              "    <tr>\n",
              "      <th>3</th>\n",
              "      <td>-0.539351</td>\n",
              "      <td>-0.875532</td>\n",
              "    </tr>\n",
              "    <tr>\n",
              "      <th>4</th>\n",
              "      <td>-0.588597</td>\n",
              "      <td>0.293062</td>\n",
              "    </tr>\n",
              "    <tr>\n",
              "      <th>5</th>\n",
              "      <td>-0.127985</td>\n",
              "      <td>-0.136639</td>\n",
              "    </tr>\n",
              "    <tr>\n",
              "      <th>6</th>\n",
              "      <td>0.342579</td>\n",
              "      <td>0.211717</td>\n",
              "    </tr>\n",
              "  </tbody>\n",
              "</table>\n",
              "</div>\n",
              "    <div class=\"colab-df-buttons\">\n",
              "\n",
              "  <div class=\"colab-df-container\">\n",
              "    <button class=\"colab-df-convert\" onclick=\"convertToInteractive('df-34814e5a-7610-4705-9abc-3626bf7d6454')\"\n",
              "            title=\"Convert this dataframe to an interactive table.\"\n",
              "            style=\"display:none;\">\n",
              "\n",
              "  <svg xmlns=\"http://www.w3.org/2000/svg\" height=\"24px\" viewBox=\"0 -960 960 960\">\n",
              "    <path d=\"M120-120v-720h720v720H120Zm60-500h600v-160H180v160Zm220 220h160v-160H400v160Zm0 220h160v-160H400v160ZM180-400h160v-160H180v160Zm440 0h160v-160H620v160ZM180-180h160v-160H180v160Zm440 0h160v-160H620v160Z\"/>\n",
              "  </svg>\n",
              "    </button>\n",
              "\n",
              "  <style>\n",
              "    .colab-df-container {\n",
              "      display:flex;\n",
              "      gap: 12px;\n",
              "    }\n",
              "\n",
              "    .colab-df-convert {\n",
              "      background-color: #E8F0FE;\n",
              "      border: none;\n",
              "      border-radius: 50%;\n",
              "      cursor: pointer;\n",
              "      display: none;\n",
              "      fill: #1967D2;\n",
              "      height: 32px;\n",
              "      padding: 0 0 0 0;\n",
              "      width: 32px;\n",
              "    }\n",
              "\n",
              "    .colab-df-convert:hover {\n",
              "      background-color: #E2EBFA;\n",
              "      box-shadow: 0px 1px 2px rgba(60, 64, 67, 0.3), 0px 1px 3px 1px rgba(60, 64, 67, 0.15);\n",
              "      fill: #174EA6;\n",
              "    }\n",
              "\n",
              "    .colab-df-buttons div {\n",
              "      margin-bottom: 4px;\n",
              "    }\n",
              "\n",
              "    [theme=dark] .colab-df-convert {\n",
              "      background-color: #3B4455;\n",
              "      fill: #D2E3FC;\n",
              "    }\n",
              "\n",
              "    [theme=dark] .colab-df-convert:hover {\n",
              "      background-color: #434B5C;\n",
              "      box-shadow: 0px 1px 3px 1px rgba(0, 0, 0, 0.15);\n",
              "      filter: drop-shadow(0px 1px 2px rgba(0, 0, 0, 0.3));\n",
              "      fill: #FFFFFF;\n",
              "    }\n",
              "  </style>\n",
              "\n",
              "    <script>\n",
              "      const buttonEl =\n",
              "        document.querySelector('#df-34814e5a-7610-4705-9abc-3626bf7d6454 button.colab-df-convert');\n",
              "      buttonEl.style.display =\n",
              "        google.colab.kernel.accessAllowed ? 'block' : 'none';\n",
              "\n",
              "      async function convertToInteractive(key) {\n",
              "        const element = document.querySelector('#df-34814e5a-7610-4705-9abc-3626bf7d6454');\n",
              "        const dataTable =\n",
              "          await google.colab.kernel.invokeFunction('convertToInteractive',\n",
              "                                                    [key], {});\n",
              "        if (!dataTable) return;\n",
              "\n",
              "        const docLinkHtml = 'Like what you see? Visit the ' +\n",
              "          '<a target=\"_blank\" href=https://colab.research.google.com/notebooks/data_table.ipynb>data table notebook</a>'\n",
              "          + ' to learn more about interactive tables.';\n",
              "        element.innerHTML = '';\n",
              "        dataTable['output_type'] = 'display_data';\n",
              "        await google.colab.output.renderOutput(dataTable, element);\n",
              "        const docLink = document.createElement('div');\n",
              "        docLink.innerHTML = docLinkHtml;\n",
              "        element.appendChild(docLink);\n",
              "      }\n",
              "    </script>\n",
              "  </div>\n",
              "\n",
              "\n",
              "<div id=\"df-3d89cafa-23ed-464b-85d5-0c9f7b8fa3ea\">\n",
              "  <button class=\"colab-df-quickchart\" onclick=\"quickchart('df-3d89cafa-23ed-464b-85d5-0c9f7b8fa3ea')\"\n",
              "            title=\"Suggest charts\"\n",
              "            style=\"display:none;\">\n",
              "\n",
              "<svg xmlns=\"http://www.w3.org/2000/svg\" height=\"24px\"viewBox=\"0 0 24 24\"\n",
              "     width=\"24px\">\n",
              "    <g>\n",
              "        <path d=\"M19 3H5c-1.1 0-2 .9-2 2v14c0 1.1.9 2 2 2h14c1.1 0 2-.9 2-2V5c0-1.1-.9-2-2-2zM9 17H7v-7h2v7zm4 0h-2V7h2v10zm4 0h-2v-4h2v4z\"/>\n",
              "    </g>\n",
              "</svg>\n",
              "  </button>\n",
              "\n",
              "<style>\n",
              "  .colab-df-quickchart {\n",
              "      --bg-color: #E8F0FE;\n",
              "      --fill-color: #1967D2;\n",
              "      --hover-bg-color: #E2EBFA;\n",
              "      --hover-fill-color: #174EA6;\n",
              "      --disabled-fill-color: #AAA;\n",
              "      --disabled-bg-color: #DDD;\n",
              "  }\n",
              "\n",
              "  [theme=dark] .colab-df-quickchart {\n",
              "      --bg-color: #3B4455;\n",
              "      --fill-color: #D2E3FC;\n",
              "      --hover-bg-color: #434B5C;\n",
              "      --hover-fill-color: #FFFFFF;\n",
              "      --disabled-bg-color: #3B4455;\n",
              "      --disabled-fill-color: #666;\n",
              "  }\n",
              "\n",
              "  .colab-df-quickchart {\n",
              "    background-color: var(--bg-color);\n",
              "    border: none;\n",
              "    border-radius: 50%;\n",
              "    cursor: pointer;\n",
              "    display: none;\n",
              "    fill: var(--fill-color);\n",
              "    height: 32px;\n",
              "    padding: 0;\n",
              "    width: 32px;\n",
              "  }\n",
              "\n",
              "  .colab-df-quickchart:hover {\n",
              "    background-color: var(--hover-bg-color);\n",
              "    box-shadow: 0 1px 2px rgba(60, 64, 67, 0.3), 0 1px 3px 1px rgba(60, 64, 67, 0.15);\n",
              "    fill: var(--button-hover-fill-color);\n",
              "  }\n",
              "\n",
              "  .colab-df-quickchart-complete:disabled,\n",
              "  .colab-df-quickchart-complete:disabled:hover {\n",
              "    background-color: var(--disabled-bg-color);\n",
              "    fill: var(--disabled-fill-color);\n",
              "    box-shadow: none;\n",
              "  }\n",
              "\n",
              "  .colab-df-spinner {\n",
              "    border: 2px solid var(--fill-color);\n",
              "    border-color: transparent;\n",
              "    border-bottom-color: var(--fill-color);\n",
              "    animation:\n",
              "      spin 1s steps(1) infinite;\n",
              "  }\n",
              "\n",
              "  @keyframes spin {\n",
              "    0% {\n",
              "      border-color: transparent;\n",
              "      border-bottom-color: var(--fill-color);\n",
              "      border-left-color: var(--fill-color);\n",
              "    }\n",
              "    20% {\n",
              "      border-color: transparent;\n",
              "      border-left-color: var(--fill-color);\n",
              "      border-top-color: var(--fill-color);\n",
              "    }\n",
              "    30% {\n",
              "      border-color: transparent;\n",
              "      border-left-color: var(--fill-color);\n",
              "      border-top-color: var(--fill-color);\n",
              "      border-right-color: var(--fill-color);\n",
              "    }\n",
              "    40% {\n",
              "      border-color: transparent;\n",
              "      border-right-color: var(--fill-color);\n",
              "      border-top-color: var(--fill-color);\n",
              "    }\n",
              "    60% {\n",
              "      border-color: transparent;\n",
              "      border-right-color: var(--fill-color);\n",
              "    }\n",
              "    80% {\n",
              "      border-color: transparent;\n",
              "      border-right-color: var(--fill-color);\n",
              "      border-bottom-color: var(--fill-color);\n",
              "    }\n",
              "    90% {\n",
              "      border-color: transparent;\n",
              "      border-bottom-color: var(--fill-color);\n",
              "    }\n",
              "  }\n",
              "</style>\n",
              "\n",
              "  <script>\n",
              "    async function quickchart(key) {\n",
              "      const quickchartButtonEl =\n",
              "        document.querySelector('#' + key + ' button');\n",
              "      quickchartButtonEl.disabled = true;  // To prevent multiple clicks.\n",
              "      quickchartButtonEl.classList.add('colab-df-spinner');\n",
              "      try {\n",
              "        const charts = await google.colab.kernel.invokeFunction(\n",
              "            'suggestCharts', [key], {});\n",
              "      } catch (error) {\n",
              "        console.error('Error during call to suggestCharts:', error);\n",
              "      }\n",
              "      quickchartButtonEl.classList.remove('colab-df-spinner');\n",
              "      quickchartButtonEl.classList.add('colab-df-quickchart-complete');\n",
              "    }\n",
              "    (() => {\n",
              "      let quickchartButtonEl =\n",
              "        document.querySelector('#df-3d89cafa-23ed-464b-85d5-0c9f7b8fa3ea button');\n",
              "      quickchartButtonEl.style.display =\n",
              "        google.colab.kernel.accessAllowed ? 'block' : 'none';\n",
              "    })();\n",
              "  </script>\n",
              "</div>\n",
              "\n",
              "  <div id=\"id_d2baf82e-b92b-48d9-8c76-95515ba20057\">\n",
              "    <style>\n",
              "      .colab-df-generate {\n",
              "        background-color: #E8F0FE;\n",
              "        border: none;\n",
              "        border-radius: 50%;\n",
              "        cursor: pointer;\n",
              "        display: none;\n",
              "        fill: #1967D2;\n",
              "        height: 32px;\n",
              "        padding: 0 0 0 0;\n",
              "        width: 32px;\n",
              "      }\n",
              "\n",
              "      .colab-df-generate:hover {\n",
              "        background-color: #E2EBFA;\n",
              "        box-shadow: 0px 1px 2px rgba(60, 64, 67, 0.3), 0px 1px 3px 1px rgba(60, 64, 67, 0.15);\n",
              "        fill: #174EA6;\n",
              "      }\n",
              "\n",
              "      [theme=dark] .colab-df-generate {\n",
              "        background-color: #3B4455;\n",
              "        fill: #D2E3FC;\n",
              "      }\n",
              "\n",
              "      [theme=dark] .colab-df-generate:hover {\n",
              "        background-color: #434B5C;\n",
              "        box-shadow: 0px 1px 3px 1px rgba(0, 0, 0, 0.15);\n",
              "        filter: drop-shadow(0px 1px 2px rgba(0, 0, 0, 0.3));\n",
              "        fill: #FFFFFF;\n",
              "      }\n",
              "    </style>\n",
              "    <button class=\"colab-df-generate\" onclick=\"generateWithVariable('df_centroids')\"\n",
              "            title=\"Generate code using this dataframe.\"\n",
              "            style=\"display:none;\">\n",
              "\n",
              "  <svg xmlns=\"http://www.w3.org/2000/svg\" height=\"24px\"viewBox=\"0 0 24 24\"\n",
              "       width=\"24px\">\n",
              "    <path d=\"M7,19H8.4L18.45,9,17,7.55,7,17.6ZM5,21V16.75L18.45,3.32a2,2,0,0,1,2.83,0l1.4,1.43a1.91,1.91,0,0,1,.58,1.4,1.91,1.91,0,0,1-.58,1.4L9.25,21ZM18.45,9,17,7.55Zm-12,3A5.31,5.31,0,0,0,4.9,8.1,5.31,5.31,0,0,0,1,6.5,5.31,5.31,0,0,0,4.9,4.9,5.31,5.31,0,0,0,6.5,1,5.31,5.31,0,0,0,8.1,4.9,5.31,5.31,0,0,0,12,6.5,5.46,5.46,0,0,0,6.5,12Z\"/>\n",
              "  </svg>\n",
              "    </button>\n",
              "    <script>\n",
              "      (() => {\n",
              "      const buttonEl =\n",
              "        document.querySelector('#id_d2baf82e-b92b-48d9-8c76-95515ba20057 button.colab-df-generate');\n",
              "      buttonEl.style.display =\n",
              "        google.colab.kernel.accessAllowed ? 'block' : 'none';\n",
              "\n",
              "      buttonEl.onclick = () => {\n",
              "        google.colab.notebook.generateWithVariable('df_centroids');\n",
              "      }\n",
              "      })();\n",
              "    </script>\n",
              "  </div>\n",
              "\n",
              "    </div>\n",
              "  </div>\n"
            ],
            "application/vnd.google.colaboratory.intrinsic+json": {
              "type": "dataframe",
              "variable_name": "df_centroids",
              "summary": "{\n  \"name\": \"df_centroids\",\n  \"rows\": 7,\n  \"fields\": [\n    {\n      \"column\": \"x\",\n      \"properties\": {\n        \"dtype\": \"number\",\n        \"std\": 0.37183630585527155,\n        \"min\": -0.6358667788625055,\n        \"max\": 0.3425785221900639,\n        \"num_unique_values\": 7,\n        \"samples\": [\n          -0.6334367440521222,\n          -0.597736426211364,\n          -0.12798479937830323\n        ],\n        \"semantic_type\": \"\",\n        \"description\": \"\"\n      }\n    },\n    {\n      \"column\": \"y\",\n      \"properties\": {\n        \"dtype\": \"number\",\n        \"std\": 0.4992150574961826,\n        \"min\": -0.8755315622189421,\n        \"max\": 0.632194353569296,\n        \"num_unique_values\": 7,\n        \"samples\": [\n          0.4887558334669436,\n          0.632194353569296,\n          -0.13663853129595388\n        ],\n        \"semantic_type\": \"\",\n        \"description\": \"\"\n      }\n    }\n  ]\n}"
            }
          },
          "metadata": {},
          "execution_count": 16
        }
      ]
    },
    {
      "cell_type": "markdown",
      "source": [
        "## **Q2 - Write a function to assign every row in a data frame to a centroid**\n",
        "\n",
        "**A)** Write a function, `assign_to_centroid`, that accepts two parameters: a data frame, `df_data`, that represents our data to be clustered, and the data frame, `df_centroids`, which is of length `k` and contains the current centroids for our clusters.  The functions returns a series of the same length of `df_data` that contains the index of the closest centroid in `df_centroid`.  Use Euclidean distance as your distance measure.\n",
        "\n",
        "For example, if a row of data contained the data point $(100,123)$ and the three centroids were in a data frame that had the following information:\n",
        "\n",
        "  - Index 0 : (34,34)\n",
        "  - Index 1 : (0,1)\n",
        "  - Index 2 : (83,99)\n",
        "\n",
        "The `assign_to_centroid` function would assign the index $2$ to that row of data. Your function must have proper docstring."
      ],
      "metadata": {
        "id": "i1gzstItzzLw"
      }
    },
    {
      "cell_type": "code",
      "source": [
        "def assign_to_centroid(df_data, df_centroids):\n",
        "    \"\"\"\n",
        "    Assigns each data point in df_data to the closest centroid in df_centroids based on Euclidean distance.\n",
        "\n",
        "    Parameters:\n",
        "        df_data (DataFrame): DataFrame representing the data to be clustered.\n",
        "        df_centroids (DataFrame): DataFrame containing the current centroids for the clusters.\n",
        "\n",
        "    Returns:\n",
        "        Series: A series of the same length as df_data containing the index of the closest centroid in df_centroids.\n",
        "    \"\"\"\n",
        "    assigned_centroids = pd.Series(index=df_data.index, dtype=int)\n",
        "\n",
        "    for i, data_point in df_data.iterrows():\n",
        "        distances = np.linalg.norm(df_centroids - data_point, axis=1)\n",
        "\n",
        "        closest_centroid_index = np.argmin(distances)\n",
        "\n",
        "        assigned_centroids[i] = closest_centroid_index\n",
        "\n",
        "    return assigned_centroids"
      ],
      "metadata": {
        "id": "RTDeFg5Om40a"
      },
      "execution_count": 5,
      "outputs": []
    },
    {
      "cell_type": "markdown",
      "source": [
        "**B)** Check how many data points were assigned to each centroid"
      ],
      "metadata": {
        "id": "IUAAUUlSzzbN"
      }
    },
    {
      "cell_type": "code",
      "source": [
        "s_centroid_assignment = assign_to_centroid( df_kmeans, df_centroids )\n",
        "s_centroid_assignment.value_counts()"
      ],
      "metadata": {
        "id": "HN32FA3Uzzhv",
        "colab": {
          "base_uri": "https://localhost:8080/"
        },
        "outputId": "eed72c9c-d5a1-40f9-82f7-1b3bf9f7e245"
      },
      "execution_count": 6,
      "outputs": [
        {
          "output_type": "execute_result",
          "data": {
            "text/plain": [
              "6.0    126\n",
              "1.0     94\n",
              "3.0     71\n",
              "5.0     58\n",
              "0.0     53\n",
              "2.0     26\n",
              "4.0     22\n",
              "Name: count, dtype: int64"
            ]
          },
          "metadata": {},
          "execution_count": 6
        }
      ]
    },
    {
      "cell_type": "markdown",
      "source": [
        "## **Q3 - Write a function that recomputes the centroids**\n",
        "\n",
        "Write a function `compute_centroids()` that takes two parameters: the data frame, `df_data` containing the data being clustered, and a series of the same length that contains the label of the assigned centroid for every row in df_data, `s_centroid_assignment`. The function will return the a data frame containing the centroids (mean) value for each unique centroid.\n",
        "\n",
        "Note that the indices in the returned data frame should correspond to the unique values in `s_centroid_assignment`.  For example, if I found the mean value of df_data using the slice corresponding to `s_centroid_assigment == 2`, then the centroid should be in the returned data frame at `.iloc[2]`.\n",
        "\n",
        "Your function must have proper docstring.\n"
      ],
      "metadata": {
        "id": "by1gSBAizzox"
      }
    },
    {
      "cell_type": "code",
      "source": [
        "def compute_centroids(df_data, s_centroid_assignment):\n",
        "    \"\"\"\n",
        "    Computes the centroids mean value for each unique centroid label.\n",
        "\n",
        "    Parameters:\n",
        "        df_data (DataFrame): DataFrame containing the data being clustered.\n",
        "        s_centroid_assignment (Series): A series containing the label of the assigned centroid for every row in df_data.\n",
        "\n",
        "    Returns:\n",
        "        DataFrame: A data frame containing the centroids (mean) value for each unique centroid label.\n",
        "    \"\"\"\n",
        "    df_combined = pd.concat([df_data, s_centroid_assignment.rename('centroid_label')], axis=1)\n",
        "\n",
        "    centroids = df_combined.groupby('centroid_label').mean()\n",
        "\n",
        "    return centroids\n"
      ],
      "metadata": {
        "id": "AIdc9i7Xm7jV"
      },
      "execution_count": 7,
      "outputs": []
    },
    {
      "cell_type": "markdown",
      "source": [
        "**Check your results by calling your method**"
      ],
      "metadata": {
        "id": "_WCeUIlO0dVx"
      }
    },
    {
      "cell_type": "code",
      "source": [
        "df_new_centroids = compute_centroids(df_kmeans, s_centroid_assignment)\n",
        "df_new_centroids"
      ],
      "metadata": {
        "id": "xImboBfX00je",
        "colab": {
          "base_uri": "https://localhost:8080/",
          "height": 300
        },
        "outputId": "4d5a571b-e322-4db5-9995-49455c386f30"
      },
      "execution_count": 8,
      "outputs": [
        {
          "output_type": "execute_result",
          "data": {
            "text/plain": [
              "                       x         y\n",
              "centroid_label                    \n",
              "0.0            -0.715983  0.500552\n",
              "1.0            -0.721574  0.708343\n",
              "2.0            -0.738268 -0.113830\n",
              "3.0            -0.696694 -0.699028\n",
              "4.0            -0.546913  0.321364\n",
              "5.0            -0.102365 -0.188876\n",
              "6.0             0.523364  0.238569"
            ],
            "text/html": [
              "\n",
              "  <div id=\"df-bf8535db-66e5-4ad9-b418-65c58bb2362c\" class=\"colab-df-container\">\n",
              "    <div>\n",
              "<style scoped>\n",
              "    .dataframe tbody tr th:only-of-type {\n",
              "        vertical-align: middle;\n",
              "    }\n",
              "\n",
              "    .dataframe tbody tr th {\n",
              "        vertical-align: top;\n",
              "    }\n",
              "\n",
              "    .dataframe thead th {\n",
              "        text-align: right;\n",
              "    }\n",
              "</style>\n",
              "<table border=\"1\" class=\"dataframe\">\n",
              "  <thead>\n",
              "    <tr style=\"text-align: right;\">\n",
              "      <th></th>\n",
              "      <th>x</th>\n",
              "      <th>y</th>\n",
              "    </tr>\n",
              "    <tr>\n",
              "      <th>centroid_label</th>\n",
              "      <th></th>\n",
              "      <th></th>\n",
              "    </tr>\n",
              "  </thead>\n",
              "  <tbody>\n",
              "    <tr>\n",
              "      <th>0.0</th>\n",
              "      <td>-0.715983</td>\n",
              "      <td>0.500552</td>\n",
              "    </tr>\n",
              "    <tr>\n",
              "      <th>1.0</th>\n",
              "      <td>-0.721574</td>\n",
              "      <td>0.708343</td>\n",
              "    </tr>\n",
              "    <tr>\n",
              "      <th>2.0</th>\n",
              "      <td>-0.738268</td>\n",
              "      <td>-0.113830</td>\n",
              "    </tr>\n",
              "    <tr>\n",
              "      <th>3.0</th>\n",
              "      <td>-0.696694</td>\n",
              "      <td>-0.699028</td>\n",
              "    </tr>\n",
              "    <tr>\n",
              "      <th>4.0</th>\n",
              "      <td>-0.546913</td>\n",
              "      <td>0.321364</td>\n",
              "    </tr>\n",
              "    <tr>\n",
              "      <th>5.0</th>\n",
              "      <td>-0.102365</td>\n",
              "      <td>-0.188876</td>\n",
              "    </tr>\n",
              "    <tr>\n",
              "      <th>6.0</th>\n",
              "      <td>0.523364</td>\n",
              "      <td>0.238569</td>\n",
              "    </tr>\n",
              "  </tbody>\n",
              "</table>\n",
              "</div>\n",
              "    <div class=\"colab-df-buttons\">\n",
              "\n",
              "  <div class=\"colab-df-container\">\n",
              "    <button class=\"colab-df-convert\" onclick=\"convertToInteractive('df-bf8535db-66e5-4ad9-b418-65c58bb2362c')\"\n",
              "            title=\"Convert this dataframe to an interactive table.\"\n",
              "            style=\"display:none;\">\n",
              "\n",
              "  <svg xmlns=\"http://www.w3.org/2000/svg\" height=\"24px\" viewBox=\"0 -960 960 960\">\n",
              "    <path d=\"M120-120v-720h720v720H120Zm60-500h600v-160H180v160Zm220 220h160v-160H400v160Zm0 220h160v-160H400v160ZM180-400h160v-160H180v160Zm440 0h160v-160H620v160ZM180-180h160v-160H180v160Zm440 0h160v-160H620v160Z\"/>\n",
              "  </svg>\n",
              "    </button>\n",
              "\n",
              "  <style>\n",
              "    .colab-df-container {\n",
              "      display:flex;\n",
              "      gap: 12px;\n",
              "    }\n",
              "\n",
              "    .colab-df-convert {\n",
              "      background-color: #E8F0FE;\n",
              "      border: none;\n",
              "      border-radius: 50%;\n",
              "      cursor: pointer;\n",
              "      display: none;\n",
              "      fill: #1967D2;\n",
              "      height: 32px;\n",
              "      padding: 0 0 0 0;\n",
              "      width: 32px;\n",
              "    }\n",
              "\n",
              "    .colab-df-convert:hover {\n",
              "      background-color: #E2EBFA;\n",
              "      box-shadow: 0px 1px 2px rgba(60, 64, 67, 0.3), 0px 1px 3px 1px rgba(60, 64, 67, 0.15);\n",
              "      fill: #174EA6;\n",
              "    }\n",
              "\n",
              "    .colab-df-buttons div {\n",
              "      margin-bottom: 4px;\n",
              "    }\n",
              "\n",
              "    [theme=dark] .colab-df-convert {\n",
              "      background-color: #3B4455;\n",
              "      fill: #D2E3FC;\n",
              "    }\n",
              "\n",
              "    [theme=dark] .colab-df-convert:hover {\n",
              "      background-color: #434B5C;\n",
              "      box-shadow: 0px 1px 3px 1px rgba(0, 0, 0, 0.15);\n",
              "      filter: drop-shadow(0px 1px 2px rgba(0, 0, 0, 0.3));\n",
              "      fill: #FFFFFF;\n",
              "    }\n",
              "  </style>\n",
              "\n",
              "    <script>\n",
              "      const buttonEl =\n",
              "        document.querySelector('#df-bf8535db-66e5-4ad9-b418-65c58bb2362c button.colab-df-convert');\n",
              "      buttonEl.style.display =\n",
              "        google.colab.kernel.accessAllowed ? 'block' : 'none';\n",
              "\n",
              "      async function convertToInteractive(key) {\n",
              "        const element = document.querySelector('#df-bf8535db-66e5-4ad9-b418-65c58bb2362c');\n",
              "        const dataTable =\n",
              "          await google.colab.kernel.invokeFunction('convertToInteractive',\n",
              "                                                    [key], {});\n",
              "        if (!dataTable) return;\n",
              "\n",
              "        const docLinkHtml = 'Like what you see? Visit the ' +\n",
              "          '<a target=\"_blank\" href=https://colab.research.google.com/notebooks/data_table.ipynb>data table notebook</a>'\n",
              "          + ' to learn more about interactive tables.';\n",
              "        element.innerHTML = '';\n",
              "        dataTable['output_type'] = 'display_data';\n",
              "        await google.colab.output.renderOutput(dataTable, element);\n",
              "        const docLink = document.createElement('div');\n",
              "        docLink.innerHTML = docLinkHtml;\n",
              "        element.appendChild(docLink);\n",
              "      }\n",
              "    </script>\n",
              "  </div>\n",
              "\n",
              "\n",
              "<div id=\"df-e42fd625-00c1-4a98-b7af-ee995fbed7da\">\n",
              "  <button class=\"colab-df-quickchart\" onclick=\"quickchart('df-e42fd625-00c1-4a98-b7af-ee995fbed7da')\"\n",
              "            title=\"Suggest charts\"\n",
              "            style=\"display:none;\">\n",
              "\n",
              "<svg xmlns=\"http://www.w3.org/2000/svg\" height=\"24px\"viewBox=\"0 0 24 24\"\n",
              "     width=\"24px\">\n",
              "    <g>\n",
              "        <path d=\"M19 3H5c-1.1 0-2 .9-2 2v14c0 1.1.9 2 2 2h14c1.1 0 2-.9 2-2V5c0-1.1-.9-2-2-2zM9 17H7v-7h2v7zm4 0h-2V7h2v10zm4 0h-2v-4h2v4z\"/>\n",
              "    </g>\n",
              "</svg>\n",
              "  </button>\n",
              "\n",
              "<style>\n",
              "  .colab-df-quickchart {\n",
              "      --bg-color: #E8F0FE;\n",
              "      --fill-color: #1967D2;\n",
              "      --hover-bg-color: #E2EBFA;\n",
              "      --hover-fill-color: #174EA6;\n",
              "      --disabled-fill-color: #AAA;\n",
              "      --disabled-bg-color: #DDD;\n",
              "  }\n",
              "\n",
              "  [theme=dark] .colab-df-quickchart {\n",
              "      --bg-color: #3B4455;\n",
              "      --fill-color: #D2E3FC;\n",
              "      --hover-bg-color: #434B5C;\n",
              "      --hover-fill-color: #FFFFFF;\n",
              "      --disabled-bg-color: #3B4455;\n",
              "      --disabled-fill-color: #666;\n",
              "  }\n",
              "\n",
              "  .colab-df-quickchart {\n",
              "    background-color: var(--bg-color);\n",
              "    border: none;\n",
              "    border-radius: 50%;\n",
              "    cursor: pointer;\n",
              "    display: none;\n",
              "    fill: var(--fill-color);\n",
              "    height: 32px;\n",
              "    padding: 0;\n",
              "    width: 32px;\n",
              "  }\n",
              "\n",
              "  .colab-df-quickchart:hover {\n",
              "    background-color: var(--hover-bg-color);\n",
              "    box-shadow: 0 1px 2px rgba(60, 64, 67, 0.3), 0 1px 3px 1px rgba(60, 64, 67, 0.15);\n",
              "    fill: var(--button-hover-fill-color);\n",
              "  }\n",
              "\n",
              "  .colab-df-quickchart-complete:disabled,\n",
              "  .colab-df-quickchart-complete:disabled:hover {\n",
              "    background-color: var(--disabled-bg-color);\n",
              "    fill: var(--disabled-fill-color);\n",
              "    box-shadow: none;\n",
              "  }\n",
              "\n",
              "  .colab-df-spinner {\n",
              "    border: 2px solid var(--fill-color);\n",
              "    border-color: transparent;\n",
              "    border-bottom-color: var(--fill-color);\n",
              "    animation:\n",
              "      spin 1s steps(1) infinite;\n",
              "  }\n",
              "\n",
              "  @keyframes spin {\n",
              "    0% {\n",
              "      border-color: transparent;\n",
              "      border-bottom-color: var(--fill-color);\n",
              "      border-left-color: var(--fill-color);\n",
              "    }\n",
              "    20% {\n",
              "      border-color: transparent;\n",
              "      border-left-color: var(--fill-color);\n",
              "      border-top-color: var(--fill-color);\n",
              "    }\n",
              "    30% {\n",
              "      border-color: transparent;\n",
              "      border-left-color: var(--fill-color);\n",
              "      border-top-color: var(--fill-color);\n",
              "      border-right-color: var(--fill-color);\n",
              "    }\n",
              "    40% {\n",
              "      border-color: transparent;\n",
              "      border-right-color: var(--fill-color);\n",
              "      border-top-color: var(--fill-color);\n",
              "    }\n",
              "    60% {\n",
              "      border-color: transparent;\n",
              "      border-right-color: var(--fill-color);\n",
              "    }\n",
              "    80% {\n",
              "      border-color: transparent;\n",
              "      border-right-color: var(--fill-color);\n",
              "      border-bottom-color: var(--fill-color);\n",
              "    }\n",
              "    90% {\n",
              "      border-color: transparent;\n",
              "      border-bottom-color: var(--fill-color);\n",
              "    }\n",
              "  }\n",
              "</style>\n",
              "\n",
              "  <script>\n",
              "    async function quickchart(key) {\n",
              "      const quickchartButtonEl =\n",
              "        document.querySelector('#' + key + ' button');\n",
              "      quickchartButtonEl.disabled = true;  // To prevent multiple clicks.\n",
              "      quickchartButtonEl.classList.add('colab-df-spinner');\n",
              "      try {\n",
              "        const charts = await google.colab.kernel.invokeFunction(\n",
              "            'suggestCharts', [key], {});\n",
              "      } catch (error) {\n",
              "        console.error('Error during call to suggestCharts:', error);\n",
              "      }\n",
              "      quickchartButtonEl.classList.remove('colab-df-spinner');\n",
              "      quickchartButtonEl.classList.add('colab-df-quickchart-complete');\n",
              "    }\n",
              "    (() => {\n",
              "      let quickchartButtonEl =\n",
              "        document.querySelector('#df-e42fd625-00c1-4a98-b7af-ee995fbed7da button');\n",
              "      quickchartButtonEl.style.display =\n",
              "        google.colab.kernel.accessAllowed ? 'block' : 'none';\n",
              "    })();\n",
              "  </script>\n",
              "</div>\n",
              "\n",
              "  <div id=\"id_b33e1b9b-d775-46c3-9b7b-47868fbff2a5\">\n",
              "    <style>\n",
              "      .colab-df-generate {\n",
              "        background-color: #E8F0FE;\n",
              "        border: none;\n",
              "        border-radius: 50%;\n",
              "        cursor: pointer;\n",
              "        display: none;\n",
              "        fill: #1967D2;\n",
              "        height: 32px;\n",
              "        padding: 0 0 0 0;\n",
              "        width: 32px;\n",
              "      }\n",
              "\n",
              "      .colab-df-generate:hover {\n",
              "        background-color: #E2EBFA;\n",
              "        box-shadow: 0px 1px 2px rgba(60, 64, 67, 0.3), 0px 1px 3px 1px rgba(60, 64, 67, 0.15);\n",
              "        fill: #174EA6;\n",
              "      }\n",
              "\n",
              "      [theme=dark] .colab-df-generate {\n",
              "        background-color: #3B4455;\n",
              "        fill: #D2E3FC;\n",
              "      }\n",
              "\n",
              "      [theme=dark] .colab-df-generate:hover {\n",
              "        background-color: #434B5C;\n",
              "        box-shadow: 0px 1px 3px 1px rgba(0, 0, 0, 0.15);\n",
              "        filter: drop-shadow(0px 1px 2px rgba(0, 0, 0, 0.3));\n",
              "        fill: #FFFFFF;\n",
              "      }\n",
              "    </style>\n",
              "    <button class=\"colab-df-generate\" onclick=\"generateWithVariable('df_new_centroids')\"\n",
              "            title=\"Generate code using this dataframe.\"\n",
              "            style=\"display:none;\">\n",
              "\n",
              "  <svg xmlns=\"http://www.w3.org/2000/svg\" height=\"24px\"viewBox=\"0 0 24 24\"\n",
              "       width=\"24px\">\n",
              "    <path d=\"M7,19H8.4L18.45,9,17,7.55,7,17.6ZM5,21V16.75L18.45,3.32a2,2,0,0,1,2.83,0l1.4,1.43a1.91,1.91,0,0,1,.58,1.4,1.91,1.91,0,0,1-.58,1.4L9.25,21ZM18.45,9,17,7.55Zm-12,3A5.31,5.31,0,0,0,4.9,8.1,5.31,5.31,0,0,0,1,6.5,5.31,5.31,0,0,0,4.9,4.9,5.31,5.31,0,0,0,6.5,1,5.31,5.31,0,0,0,8.1,4.9,5.31,5.31,0,0,0,12,6.5,5.46,5.46,0,0,0,6.5,12Z\"/>\n",
              "  </svg>\n",
              "    </button>\n",
              "    <script>\n",
              "      (() => {\n",
              "      const buttonEl =\n",
              "        document.querySelector('#id_b33e1b9b-d775-46c3-9b7b-47868fbff2a5 button.colab-df-generate');\n",
              "      buttonEl.style.display =\n",
              "        google.colab.kernel.accessAllowed ? 'block' : 'none';\n",
              "\n",
              "      buttonEl.onclick = () => {\n",
              "        google.colab.notebook.generateWithVariable('df_new_centroids');\n",
              "      }\n",
              "      })();\n",
              "    </script>\n",
              "  </div>\n",
              "\n",
              "    </div>\n",
              "  </div>\n"
            ],
            "application/vnd.google.colaboratory.intrinsic+json": {
              "type": "dataframe",
              "variable_name": "df_new_centroids",
              "summary": "{\n  \"name\": \"df_new_centroids\",\n  \"rows\": 7,\n  \"fields\": [\n    {\n      \"column\": \"centroid_label\",\n      \"properties\": {\n        \"dtype\": \"number\",\n        \"std\": 2.160246899469287,\n        \"min\": 0.0,\n        \"max\": 6.0,\n        \"num_unique_values\": 7,\n        \"samples\": [\n          0.0,\n          1.0,\n          5.0\n        ],\n        \"semantic_type\": \"\",\n        \"description\": \"\"\n      }\n    },\n    {\n      \"column\": \"x\",\n      \"properties\": {\n        \"dtype\": \"number\",\n        \"std\": 0.47659446026414143,\n        \"min\": -0.7382677521043816,\n        \"max\": 0.5233640858320843,\n        \"num_unique_values\": 7,\n        \"samples\": [\n          -0.7159827473050452,\n          -0.721574307815794,\n          -0.10236458515551188\n        ],\n        \"semantic_type\": \"\",\n        \"description\": \"\"\n      }\n    },\n    {\n      \"column\": \"y\",\n      \"properties\": {\n        \"dtype\": \"number\",\n        \"std\": 0.477092158768708,\n        \"min\": -0.6990281191934413,\n        \"max\": 0.7083425464026588,\n        \"num_unique_values\": 7,\n        \"samples\": [\n          0.5005521893616571,\n          0.7083425464026588,\n          -0.1888758307718364\n        ],\n        \"semantic_type\": \"\",\n        \"description\": \"\"\n      }\n    }\n  ]\n}"
            }
          },
          "metadata": {},
          "execution_count": 8
        }
      ]
    },
    {
      "cell_type": "markdown",
      "source": [
        "## **Q4 - Write a function that compares two centroid data frames**\n",
        "\n",
        "The stopping criterion for k-means is when our centroids have not moved since the last iteration.  Write a function `compare_centroids` that is given 2 centroid data frames, `df_centroid_a`, and `df_centroid_b` as parameters and returns `True` or `False` indicating if the centroids at each unique index in the data frame are equal. Use the [equals](https://pandas.pydata.org/pandas-docs/stable/reference/api/pandas.Series.equals.html) method to compare equality of pandas Series objects.  Your function must have proper docstring."
      ],
      "metadata": {
        "id": "Oda3_tju03oX"
      }
    },
    {
      "cell_type": "markdown",
      "source": [
        "**Test your implementation by calling your function. It should print `True`, followed by `False`**"
      ],
      "metadata": {
        "id": "yyctQ_PJ033q"
      }
    },
    {
      "cell_type": "code",
      "source": [
        "def compare_centroids(df_centroid_a, df_centroid_b):\n",
        "    \"\"\"\n",
        "    Compares two centroid data frames and returns True if the centroids at each unique index in the data frames are equal.\n",
        "\n",
        "    Parameters:\n",
        "        df_centroid_a (DataFrame): First centroid data frame.\n",
        "        df_centroid_b (DataFrame): Second centroid data frame.\n",
        "\n",
        "    Returns:\n",
        "        bool: True if centroids at each unique index are equal, False otherwise.\n",
        "    \"\"\"\n",
        "    return df_centroid_a.equals(df_centroid_b)\n"
      ],
      "metadata": {
        "id": "cAUoQo5NnHD9"
      },
      "execution_count": 18,
      "outputs": []
    },
    {
      "cell_type": "code",
      "source": [
        "print(compare_centroids( df_new_centroids, df_new_centroids ))\n",
        "print(compare_centroids( df_new_centroids, df_centroids ))"
      ],
      "metadata": {
        "id": "sg1858AW03-Z",
        "colab": {
          "base_uri": "https://localhost:8080/"
        },
        "outputId": "b0216b34-144b-4402-aa6f-ce448cbd87d1"
      },
      "execution_count": 19,
      "outputs": [
        {
          "output_type": "stream",
          "name": "stdout",
          "text": [
            "True\n",
            "False\n"
          ]
        }
      ]
    },
    {
      "cell_type": "markdown",
      "source": [
        "## **Q5 - Write a function that implements k-means**\n",
        "\n",
        "Write a function, `k_means`, that takes in as parameters 2 values, a data frame with values to cluster, `df_data`, and the number of clusters to form, `k`.  The function should return a series of data of the same length as `df_data` that contains the cluster assignment (an integer from 0 to (k-1)) for each row of data.  Use the helper functions defined in the prior questions. Your function must have proper docstring."
      ],
      "metadata": {
        "id": "kgy06-LT04Fb"
      }
    },
    {
      "cell_type": "code",
      "source": [
        "def k_means(df_data, k):\n",
        "    \"\"\"\n",
        "    Performs k-means clustering on the given data frame.\n",
        "\n",
        "    Parameters:\n",
        "        df_data (DataFrame): Data frame with values to cluster.\n",
        "        k (int): Number of clusters to form.\n",
        "\n",
        "    Returns:\n",
        "        Series: A series containing the cluster assignment (an integer from 0 to k-1) for each row of data.\n",
        "    \"\"\"\n",
        "    df_centroids = df_data.sample(n=k)\n",
        "\n",
        "    previous_centroids = pd.DataFrame()\n",
        "    current_centroids = df_centroids.copy()\n",
        "\n",
        "    while not compare_centroids(previous_centroids, current_centroids):\n",
        "\n",
        "        centroid_assignment = assign_to_centroid(df_data, current_centroids)\n",
        "\n",
        "        previous_centroids = current_centroids\n",
        "        current_centroids = compute_centroids(df_data, centroid_assignment)\n",
        "\n",
        "    return centroid_assignment\n"
      ],
      "metadata": {
        "id": "uAXkCiml04NR"
      },
      "execution_count": 20,
      "outputs": []
    },
    {
      "cell_type": "markdown",
      "source": [
        "**Call your function with `k=5` and observe the results**"
      ],
      "metadata": {
        "id": "8ORZpVUJ14DK"
      }
    },
    {
      "cell_type": "code",
      "source": [
        "s_cluster_assignment = k_means( df_kmeans, 5)\n",
        "s_cluster_assignment.value_counts()"
      ],
      "metadata": {
        "id": "Lppb0Fnz14MB",
        "colab": {
          "base_uri": "https://localhost:8080/"
        },
        "outputId": "d5fd4c77-1a5a-4fff-c672-96ba7108584e"
      },
      "execution_count": 21,
      "outputs": [
        {
          "output_type": "execute_result",
          "data": {
            "text/plain": [
              "1.0    178\n",
              "3.0     89\n",
              "4.0     74\n",
              "2.0     63\n",
              "0.0     46\n",
              "Name: count, dtype: int64"
            ]
          },
          "metadata": {},
          "execution_count": 21
        }
      ]
    },
    {
      "cell_type": "markdown",
      "source": [
        "## **Q6 - Plot the results**\n",
        "\n",
        "Plot the points in the `df_kmeans` data frame using a 2-D scatter plot, with a different color for each cluster.  Use the cluster assignments from the previous problem (`s_cluster_assignments`).  Label your axes, and give the plot a title."
      ],
      "metadata": {
        "id": "bCeEsqzK2Dgw"
      }
    },
    {
      "cell_type": "code",
      "source": [
        "plt.figure(figsize=(8, 6))\n",
        "colors = ['r', 'g', 'b', 'c', 'm']\n",
        "\n",
        "s_cluster_assignments = k_means(df_kmeans, 5)\n",
        "\n",
        "\n",
        "for cluster_id, color in zip(range(5), colors):\n",
        "    cluster_points = df_kmeans[s_cluster_assignments == cluster_id]\n",
        "    plt.scatter(cluster_points.iloc[:, 0], cluster_points.iloc[:, 1], c=color, label=f'Cluster {cluster_id}')\n",
        "\n",
        "plt.title('K-Means Clustering')\n",
        "plt.xlabel('X')\n",
        "plt.ylabel('Y')\n",
        "plt.legend()\n",
        "plt.grid(True)\n",
        "plt.show()\n",
        "\n"
      ],
      "metadata": {
        "id": "X-6UMGFa2C1U",
        "colab": {
          "base_uri": "https://localhost:8080/",
          "height": 564
        },
        "outputId": "52a7faaf-b0d3-4108-ef78-6b04bc392020"
      },
      "execution_count": 22,
      "outputs": [
        {
          "output_type": "display_data",
          "data": {
            "text/plain": [
              "<Figure size 800x600 with 1 Axes>"
            ],
            "image/png": "[encoded data removed]"
          },
          "metadata": {}
        }
      ]
    },
    {
      "cell_type": "code",
      "source": [],
      "metadata": {
        "id": "sB8miXFBr7hs"
      },
      "execution_count": 13,
      "outputs": []
    }
  ]
}